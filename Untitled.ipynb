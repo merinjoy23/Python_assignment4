{
 "cells": [
  {
   "cell_type": "code",
   "execution_count": 78,
   "metadata": {},
   "outputs": [],
   "source": [
    "import sqlite3\n",
    "import pandas as pd\n",
    "import numpy as np\n",
    "from matplotlib import pyplot as plt"
   ]
  },
  {
   "cell_type": "code",
   "execution_count": 145,
   "metadata": {},
   "outputs": [],
   "source": [
    "conn = sqlite3.connect('/Users/Merin/Desktop/HAP880/Assignment5/testClaims_hu.db')\n",
    "df = pd.read_sql('select * from highUtilizationPredictionV2wco', conn)"
   ]
  },
  {
   "cell_type": "code",
   "execution_count": 146,
   "metadata": {},
   "outputs": [],
   "source": [
    "race = pd.get_dummies(df['race'], dummy_na=False)\n",
    "df=pd.concat([df,race], axis=1)"
   ]
  },
  {
   "cell_type": "code",
   "execution_count": 319,
   "metadata": {},
   "outputs": [],
   "source": [
    "from sklearn.model_selection import train_test_split\n",
    "tr, ts = train_test_split(df, test_size=0.2)"
   ]
  },
  {
   "cell_type": "code",
   "execution_count": 320,
   "metadata": {},
   "outputs": [],
   "source": [
    "cls = list(df.columns)\n",
    "cls.remove('index')\n",
    "cls.remove('race')\n",
    "cls.remove('patient_id')\n",
    "cls.remove('claimCount')\n",
    "cls.remove('HighUtilizationY2')"
   ]
  },
  {
   "cell_type": "code",
   "execution_count": 149,
   "metadata": {},
   "outputs": [],
   "source": [
    "from sklearn.linear_model import LogisticRegression\n",
    "from sklearn.ensemble import RandomForestClassifier\n",
    "from sklearn.metrics import auc\n",
    "from sklearn.metrics import roc_curve"
   ]
  },
  {
   "cell_type": "markdown",
   "metadata": {},
   "source": [
    "#### Building the logistic model"
   ]
  },
  {
   "cell_type": "code",
   "execution_count": 260,
   "metadata": {},
   "outputs": [
    {
     "data": {
      "text/plain": [
       "LogisticRegression(C=0.9, class_weight=None, dual=False, fit_intercept=True,\n",
       "          intercept_scaling=1, max_iter=1000, multi_class='ovr', n_jobs=1,\n",
       "          penalty='l2', random_state=None, solver='lbfgs', tol=0.0001,\n",
       "          verbose=0, warm_start=False)"
      ]
     },
     "execution_count": 260,
     "metadata": {},
     "output_type": "execute_result"
    }
   ],
   "source": [
    "lr = LogisticRegression(solver='lbfgs', C=0.9, max_iter=1000)\n",
    "lr.fit(tr[cls], tr['HighUtilizationY2'])"
   ]
  },
  {
   "cell_type": "markdown",
   "metadata": {},
   "source": [
    "#### Generate AUC"
   ]
  },
  {
   "cell_type": "code",
   "execution_count": 85,
   "metadata": {},
   "outputs": [
    {
     "data": {
      "text/plain": [
       "0.8276844671386339"
      ]
     },
     "execution_count": 85,
     "metadata": {},
     "output_type": "execute_result"
    }
   ],
   "source": [
    "probs_lr = lr.predict_proba(ts[cls])[:,1]\n",
    "fpr_lr, tpr_lr, thresholds_lr = roc_curve(ts['HighUtilizationY2'], probs_lr)\n",
    "auc_lr=auc(fpr_lr, tpr_lr)\n",
    "auc_lr\n"
   ]
  },
  {
   "cell_type": "markdown",
   "metadata": {},
   "source": [
    "#### Plot AUC"
   ]
  },
  {
   "cell_type": "code",
   "execution_count": 86,
   "metadata": {},
   "outputs": [
    {
     "data": {
      "text/plain": [
       "<matplotlib.collections.PathCollection at 0x27a88325ac8>"
      ]
     },
     "execution_count": 86,
     "metadata": {},
     "output_type": "execute_result"
    },
    {
     "data": {
      "image/png": "[encoded data removed]",
      "text/plain": [
       "<Figure size 432x288 with 1 Axes>"
      ]
     },
     "metadata": {
      "needs_background": "light"
     },
     "output_type": "display_data"
    }
   ],
   "source": [
    "plt.scatter(fpr_lr, tpr_lr)"
   ]
  },
  {
   "cell_type": "markdown",
   "metadata": {},
   "source": [
    "#### Building the Random Forest model"
   ]
  },
  {
   "cell_type": "code",
   "execution_count": 87,
   "metadata": {},
   "outputs": [
    {
     "data": {
      "text/plain": [
       "RandomForestClassifier(bootstrap=True, class_weight=None, criterion='gini',\n",
       "            max_depth=None, max_features='auto', max_leaf_nodes=None,\n",
       "            min_impurity_decrease=0.0, min_impurity_split=None,\n",
       "            min_samples_leaf=1, min_samples_split=2,\n",
       "            min_weight_fraction_leaf=0.0, n_estimators=400, n_jobs=1,\n",
       "            oob_score=False, random_state=None, verbose=0,\n",
       "            warm_start=False)"
      ]
     },
     "execution_count": 87,
     "metadata": {},
     "output_type": "execute_result"
    }
   ],
   "source": [
    "rf = RandomForestClassifier(n_estimators=400)\n",
    "rf.fit(tr[cls], tr['HighUtilizationY2'])"
   ]
  },
  {
   "cell_type": "markdown",
   "metadata": {},
   "source": [
    "#### Generate AUC"
   ]
  },
  {
   "cell_type": "code",
   "execution_count": 88,
   "metadata": {},
   "outputs": [
    {
     "data": {
      "text/plain": [
       "0.812532662731996"
      ]
     },
     "execution_count": 88,
     "metadata": {},
     "output_type": "execute_result"
    }
   ],
   "source": [
    "probs_rf = rf.predict_proba(ts[cls])[:,1]\n",
    "fpr_rf, tpr_rf, thresholds_rf = roc_curve(ts['HighUtilizationY2'], probs_rf)\n",
    "auc_rf = auc(fpr_rf, tpr_rf)\n",
    "auc_rf"
   ]
  },
  {
   "cell_type": "markdown",
   "metadata": {},
   "source": [
    "#### Plot AUC"
   ]
  },
  {
   "cell_type": "code",
   "execution_count": 89,
   "metadata": {},
   "outputs": [
    {
     "data": {
      "text/plain": [
       "<matplotlib.collections.PathCollection at 0x27a93a53320>"
      ]
     },
     "execution_count": 89,
     "metadata": {},
     "output_type": "execute_result"
    },
    {
     "data": {
      "image/png": "[encoded data removed]",
      "text/plain": [
       "<Figure size 432x288 with 1 Axes>"
      ]
     },
     "metadata": {
      "needs_background": "light"
     },
     "output_type": "display_data"
    }
   ],
   "source": [
    "plt.scatter(fpr_rf, tpr_rf)"
   ]
  },
  {
   "cell_type": "markdown",
   "metadata": {},
   "source": [
    "#### AUC for Logistic and Random forest model"
   ]
  },
  {
   "cell_type": "code",
   "execution_count": 90,
   "metadata": {},
   "outputs": [
    {
     "data": {
      "text/plain": [
       "<matplotlib.collections.PathCollection at 0x27a94cae630>"
      ]
     },
     "execution_count": 90,
     "metadata": {},
     "output_type": "execute_result"
    },
    {
     "data": {
      "image/png": "[encoded data removed]",
      "text/plain": [
       "<Figure size 432x288 with 1 Axes>"
      ]
     },
     "metadata": {
      "needs_background": "light"
     },
     "output_type": "display_data"
    }
   ],
   "source": [
    "plt.scatter(fpr_lr, tpr_lr)\n",
    "plt.scatter(fpr_rf, tpr_rf)"
   ]
  },
  {
   "cell_type": "markdown",
   "metadata": {},
   "source": [
    "#### Classification threshold for recall 0.8 "
   ]
  },
  {
   "cell_type": "code",
   "execution_count": 91,
   "metadata": {},
   "outputs": [
    {
     "data": {
      "text/plain": [
       "480"
      ]
     },
     "execution_count": 91,
     "metadata": {},
     "output_type": "execute_result"
    }
   ],
   "source": [
    "# Random Forest\n",
    "r = 0\n",
    "while tpr_rf[r] < 0.8:\n",
    "    r = r+1\n",
    "r"
   ]
  },
  {
   "cell_type": "code",
   "execution_count": 92,
   "metadata": {},
   "outputs": [
    {
     "data": {
      "text/plain": [
       "(0.8044504383007417, 0.35285484329135497, 0.05)"
      ]
     },
     "execution_count": 92,
     "metadata": {},
     "output_type": "execute_result"
    }
   ],
   "source": [
    "tpr_rf[r], fpr_rf[r], thresholds_rf[r]"
   ]
  },
  {
   "cell_type": "code",
   "execution_count": 93,
   "metadata": {},
   "outputs": [
    {
     "data": {
      "text/plain": [
       "1797"
      ]
     },
     "execution_count": 93,
     "metadata": {},
     "output_type": "execute_result"
    }
   ],
   "source": [
    "# Logistic Regression\n",
    "l=0\n",
    "while tpr_lr[l] < 0.8:\n",
    "    l = l+1\n",
    "l"
   ]
  },
  {
   "cell_type": "code",
   "execution_count": 94,
   "metadata": {},
   "outputs": [
    {
     "data": {
      "text/plain": [
       "(0.8004045853000674, 0.311665561973298, 0.04772974970399293)"
      ]
     },
     "execution_count": 94,
     "metadata": {},
     "output_type": "execute_result"
    }
   ],
   "source": [
    "tpr_lr[l], fpr_lr[l], thresholds_lr[l]"
   ]
  },
  {
   "cell_type": "code",
   "execution_count": 95,
   "metadata": {},
   "outputs": [
    {
     "data": {
      "text/plain": [
       "6.560495465604954"
      ]
     },
     "execution_count": 95,
     "metadata": {},
     "output_type": "execute_result"
    }
   ],
   "source": [
    "# Percentage of positive class\n",
    "ts['HighUtilizationY2'].mean()*100"
   ]
  },
  {
   "cell_type": "code",
   "execution_count": 96,
   "metadata": {},
   "outputs": [
    {
     "data": {
      "text/plain": [
       "array([ True, False, False, ...,  True,  True,  True])"
      ]
     },
     "execution_count": 96,
     "metadata": {},
     "output_type": "execute_result"
    }
   ],
   "source": [
    "# Classification example if threshold is 0.05\n",
    "probs_rf > 0.05"
   ]
  },
  {
   "cell_type": "markdown",
   "metadata": {},
   "source": [
    "#### Generating a synthetic patient with all 0s and age 65 (healthy patient)"
   ]
  },
  {
   "cell_type": "code",
   "execution_count": 97,
   "metadata": {},
   "outputs": [],
   "source": [
    "age = 65\n",
    "ELIX = [0 for i in range(29)]\n",
    "G = [0 for i in range(22)]\n",
    "drugs = [0 for i in range(12)]\n",
    "A = 0\n",
    "AmN = 0\n",
    "B = 0\n",
    "H = 0\n",
    "O = 0\n",
    "U = 0\n",
    "W = 0\n",
    "\n",
    "d = [age] + ELIX + G + drugs + [A, AmN, B, H, O, U, W]"
   ]
  },
  {
   "cell_type": "code",
   "execution_count": 98,
   "metadata": {},
   "outputs": [],
   "source": [
    "dat = [d]"
   ]
  },
  {
   "cell_type": "markdown",
   "metadata": {},
   "source": [
    "#### Model predicts that the patient is not a high utilizer"
   ]
  },
  {
   "cell_type": "code",
   "execution_count": 99,
   "metadata": {},
   "outputs": [
    {
     "data": {
      "text/plain": [
       "array([[0.99361778, 0.00638222]])"
      ]
     },
     "execution_count": 99,
     "metadata": {},
     "output_type": "execute_result"
    }
   ],
   "source": [
    "lr.predict_proba(dat)"
   ]
  },
  {
   "cell_type": "code",
   "execution_count": 100,
   "metadata": {},
   "outputs": [
    {
     "data": {
      "text/plain": [
       "array([[9.99821429e-01, 1.78571429e-04]])"
      ]
     },
     "execution_count": 100,
     "metadata": {},
     "output_type": "execute_result"
    }
   ],
   "source": [
    "rf.predict_proba(dat)"
   ]
  },
  {
   "cell_type": "markdown",
   "metadata": {},
   "source": [
    "#### Generating a random patient"
   ]
  },
  {
   "cell_type": "code",
   "execution_count": 101,
   "metadata": {},
   "outputs": [],
   "source": [
    "# age\n",
    "age = 65\n",
    "\n",
    "# randomly select ELIX codes\n",
    "ELIX = [np.random.randint(2) for i in range(29)]\n",
    "\n",
    "#randomly select procedures\n",
    "G = [np.random.randint(2) for i in range(22)]\n",
    "\n",
    "#randomly select drug counts\n",
    "drugs = [np.random.randint(13) for i in range(12)]\n",
    "\n",
    "# zero all races\n",
    "A = 0\n",
    "AmN = 0\n",
    "B = 0\n",
    "H = 0\n",
    "O = 0\n",
    "U = 0\n",
    "W = 0\n",
    "# and randomly select race\n",
    "r = np.random.randint(7)\n",
    "if r == 0:\n",
    "    A = 1\n",
    "if r == 1:\n",
    "    AmN = 1\n",
    "if r == 2:\n",
    "    B = 1\n",
    "if r == 3:\n",
    "    H = 1\n",
    "if r == 4:\n",
    "    O = 1\n",
    "if r == 5:\n",
    "    U = 1\n",
    "if r == 6:\n",
    "    W = 1  \n",
    "d = [age] + ELIX + G + drugs + [A, AmN, B, H, O, U, W]"
   ]
  },
  {
   "cell_type": "code",
   "execution_count": 102,
   "metadata": {},
   "outputs": [],
   "source": [
    "dat = [d]"
   ]
  },
  {
   "cell_type": "markdown",
   "metadata": {},
   "source": [
    "#### Model says the patient is a high utilizer"
   ]
  },
  {
   "cell_type": "code",
   "execution_count": 103,
   "metadata": {},
   "outputs": [
    {
     "data": {
      "text/plain": [
       "array([[0.735, 0.265]])"
      ]
     },
     "execution_count": 103,
     "metadata": {},
     "output_type": "execute_result"
    }
   ],
   "source": [
    "rf.predict_proba(dat)"
   ]
  },
  {
   "cell_type": "markdown",
   "metadata": {},
   "source": [
    "#### Simulating 1000 random patients of age 65"
   ]
  },
  {
   "cell_type": "code",
   "execution_count": 104,
   "metadata": {},
   "outputs": [],
   "source": [
    "lr_res = []\n",
    "rf_res = []\n",
    "for i in range(1000):\n",
    "    age = 65\n",
    "    ELIX = [np.random.randint(2) for i in range(29)]\n",
    "    G = [np.random.randint(2) for i in range(22)]\n",
    "    drugs = [np.random.randint(30) for i in range(12)] \n",
    "    A = 0\n",
    "    AmN = 0\n",
    "    B = 0\n",
    "    H = 0\n",
    "    O = 0\n",
    "    U = 0\n",
    "    W = 0\n",
    "    r = np.random.randint(7)\n",
    "    if r == 0:\n",
    "        A = 1\n",
    "    if r == 1:\n",
    "        AmN = 1\n",
    "    if r == 2:\n",
    "        B = 1\n",
    "    if r == 3:\n",
    "        H = 1\n",
    "    if r == 4:\n",
    "        O = 1\n",
    "    if r == 5:\n",
    "        U = 1\n",
    "    if r == 6:\n",
    "        W = 1    \n",
    "    d = [age] + ELIX + G + drugs + [A, AmN, B, H, O, U, W]\n",
    "    dat = [d]\n",
    "    lr_res.append(lr.predict_proba(dat)[:,1][0])\n",
    "    rf_res.append(rf.predict_proba(dat)[:,1][0])"
   ]
  },
  {
   "cell_type": "markdown",
   "metadata": {},
   "source": [
    "#### Average and Standard deviation (sick patients are generated)"
   ]
  },
  {
   "cell_type": "code",
   "execution_count": 105,
   "metadata": {},
   "outputs": [
    {
     "data": {
      "text/plain": [
       "(0.46361154476402944, 0.25165047158635157)"
      ]
     },
     "execution_count": 105,
     "metadata": {},
     "output_type": "execute_result"
    }
   ],
   "source": [
    "np.mean(lr_res), np.std(lr_res)"
   ]
  },
  {
   "cell_type": "code",
   "execution_count": 106,
   "metadata": {},
   "outputs": [
    {
     "data": {
      "text/plain": [
       "(0.330685, 0.0773488414586799)"
      ]
     },
     "execution_count": 106,
     "metadata": {},
     "output_type": "execute_result"
    }
   ],
   "source": [
    "np.mean(rf_res), np.std(rf_res)"
   ]
  },
  {
   "cell_type": "markdown",
   "metadata": {},
   "source": [
    "#### Min and Max age"
   ]
  },
  {
   "cell_type": "code",
   "execution_count": 107,
   "metadata": {},
   "outputs": [],
   "source": [
    "maxa = tr['age'].max()\n",
    "mina = tr['age'].min()"
   ]
  },
  {
   "cell_type": "markdown",
   "metadata": {},
   "source": [
    "#### Generate random data for all ages"
   ]
  },
  {
   "cell_type": "code",
   "execution_count": 108,
   "metadata": {},
   "outputs": [],
   "source": [
    "lr_ages = []\n",
    "rf_ages = []\n",
    "for age in range(mina, maxa+1):\n",
    "    lr_res = []\n",
    "    rf_res = []\n",
    "    for i in range(1000):\n",
    "        #age = 65\n",
    "        ELIX = [np.random.randint(2) for i in range(29)]\n",
    "        G = [np.random.randint(2) for i in range(22)]\n",
    "        drugs = [np.random.randint(30) for i in range(12)] \n",
    "        A = 0\n",
    "        AmN = 0\n",
    "        B = 0\n",
    "        H = 0\n",
    "        O = 0\n",
    "        U = 0\n",
    "        W = 0\n",
    "        r = np.random.randint(7)\n",
    "        if r == 0:\n",
    "            A = 1\n",
    "        if r == 1:\n",
    "            AmN = 1\n",
    "        if r == 2:\n",
    "            B = 1\n",
    "        if r == 3:\n",
    "            H = 1\n",
    "        if r == 4:\n",
    "            O = 1\n",
    "        if r == 5:\n",
    "            U = 1\n",
    "        if r == 6:\n",
    "            W = 1    \n",
    "        d = [age] + ELIX + G + drugs + [A, AmN, B, H, O, U, W]\n",
    "        dat = [d]\n",
    "        lr_res.append(lr.predict_proba(dat)[:,1][0])\n",
    "        rf_res.append(rf.predict_proba(dat)[:,1][0])\n",
    "    lr_ages.append(sum(lr_res)/len(lr_res))\n",
    "    rf_ages.append(sum(rf_res)/len(rf_res))"
   ]
  },
  {
   "cell_type": "markdown",
   "metadata": {},
   "source": [
    "#### Probability on random data"
   ]
  },
  {
   "cell_type": "code",
   "execution_count": 109,
   "metadata": {},
   "outputs": [
    {
     "data": {
      "text/plain": [
       "[<matplotlib.lines.Line2D at 0x27a92c97c88>]"
      ]
     },
     "execution_count": 109,
     "metadata": {},
     "output_type": "execute_result"
    },
    {
     "data": {
      "image/png": "[encoded data removed]",
      "text/plain": [
       "<Figure size 432x288 with 1 Axes>"
      ]
     },
     "metadata": {
      "needs_background": "light"
     },
     "output_type": "display_data"
    }
   ],
   "source": [
    "plt.plot(range(mina, maxa+1), lr_ages)\n",
    "plt.plot(range(mina, maxa+1), rf_ages)"
   ]
  },
  {
   "cell_type": "markdown",
   "metadata": {},
   "source": [
    "#### Running the model on training data"
   ]
  },
  {
   "cell_type": "code",
   "execution_count": 110,
   "metadata": {},
   "outputs": [
    {
     "data": {
      "text/plain": [
       "[<matplotlib.lines.Line2D at 0x27a9b041400>]"
      ]
     },
     "execution_count": 110,
     "metadata": {},
     "output_type": "execute_result"
    },
    {
     "data": {
      "image/png": "[encoded data removed]",
      "text/plain": [
       "<Figure size 432x288 with 1 Axes>"
      ]
     },
     "metadata": {
      "needs_background": "light"
     },
     "output_type": "display_data"
    }
   ],
   "source": [
    "probs_l = lr.predict_proba(tr[cls])[:,1]\n",
    "probs_r = rf.predict_proba(tr[cls])[:,1]\n",
    "\n",
    "tr_res = pd.DataFrame()\n",
    "tr_res['age'] = tr['age']\n",
    "tr_res['lr'] = probs_l\n",
    "tr_res['rf'] = probs_r\n",
    "gr=tr_res.groupby('age')\n",
    "\n",
    "# This plot shows that old people are simply more sick\n",
    "plt.plot(range(mina, maxa+1),list(gr['lr'].mean()))\n",
    "plt.plot(range(mina, maxa+1),list(gr['rf'].mean()))"
   ]
  },
  {
   "cell_type": "markdown",
   "metadata": {},
   "source": [
    "#### Running the model on test data"
   ]
  },
  {
   "cell_type": "code",
   "execution_count": 111,
   "metadata": {},
   "outputs": [
    {
     "data": {
      "text/plain": [
       "[<matplotlib.lines.Line2D at 0x27a9b0d9320>]"
      ]
     },
     "execution_count": 111,
     "metadata": {},
     "output_type": "execute_result"
    },
    {
     "data": {
      "image/png": "[encoded data removed]",
      "text/plain": [
       "<Figure size 432x288 with 1 Axes>"
      ]
     },
     "metadata": {
      "needs_background": "light"
     },
     "output_type": "display_data"
    }
   ],
   "source": [
    "probs_l_t = lr.predict_proba(ts[cls])[:,1]\n",
    "probs_r_t = rf.predict_proba(ts[cls])[:,1]\n",
    "\n",
    "ts_res = pd.DataFrame()\n",
    "ts_res['age'] = ts['age']\n",
    "ts_res['lr'] = probs_l_t\n",
    "ts_res['rf'] = probs_r_t\n",
    "grts=ts_res.groupby('age')\n",
    "\n",
    "# both train and test data\n",
    "plt.plot(range(mina, maxa+1),list(gr['lr'].mean()), color='r')\n",
    "plt.plot(range(mina, maxa+1),list(gr['rf'].mean()), color='b')\n",
    "plt.plot(range(mina, maxa+1),list(grts['lr'].mean()), color='g')\n",
    "plt.plot(range(mina, maxa+1),list(grts['rf'].mean()), color='y')"
   ]
  },
  {
   "cell_type": "markdown",
   "metadata": {},
   "source": [
    "#### Counts of people based on age"
   ]
  },
  {
   "cell_type": "code",
   "execution_count": 112,
   "metadata": {},
   "outputs": [
    {
     "data": {
      "text/plain": [
       "[<matplotlib.lines.Line2D at 0x27a9b25ce10>]"
      ]
     },
     "execution_count": 112,
     "metadata": {},
     "output_type": "execute_result"
    },
    {
     "data": {
      "image/png": "[encoded data removed]",
      "text/plain": [
       "<Figure size 432x288 with 1 Axes>"
      ]
     },
     "metadata": {
      "needs_background": "light"
     },
     "output_type": "display_data"
    }
   ],
   "source": [
    "plt.plot(range(mina, maxa+1),list(gr['lr'].count()), color='r')\n",
    "plt.plot(range(mina, maxa+1),list(gr['rf'].count()), color='b')\n",
    "plt.plot(range(mina, maxa+1),list(grts['lr'].count()), color='g')\n",
    "plt.plot(range(mina, maxa+1),list(grts['rf'].count()), color='y')"
   ]
  },
  {
   "cell_type": "markdown",
   "metadata": {},
   "source": [
    "#### Smoothing the bumps from training data using a sliding window"
   ]
  },
  {
   "cell_type": "code",
   "execution_count": 113,
   "metadata": {},
   "outputs": [],
   "source": [
    "lr_ages = []\n",
    "rf_ages = []\n",
    "for age in range(mina, maxa+1):\n",
    "    lr_res = []\n",
    "    rf_res = []\n",
    "    mn = max(age-5, mina)\n",
    "    mx = min(age+5, maxa)\n",
    "    dat = tr[(tr['age'] >= mn) & (tr['age'] <= mx)][cls]\n",
    "    dat['age'] = age\n",
    "    probs_l = lr.predict_proba(dat)[:,1]\n",
    "    probs_r = rf.predict_proba(dat)[:,1]\n",
    "       \n",
    "    lr_ages.append(np.mean(probs_l))\n",
    "    rf_ages.append(np.mean(probs_r))"
   ]
  },
  {
   "cell_type": "code",
   "execution_count": 114,
   "metadata": {},
   "outputs": [
    {
     "data": {
      "text/plain": [
       "[<matplotlib.lines.Line2D at 0x27a9b2ac1d0>]"
      ]
     },
     "execution_count": 114,
     "metadata": {},
     "output_type": "execute_result"
    },
    {
     "data": {
      "image/png": "[encoded data removed]",
      "text/plain": [
       "<Figure size 432x288 with 1 Axes>"
      ]
     },
     "metadata": {
      "needs_background": "light"
     },
     "output_type": "display_data"
    }
   ],
   "source": [
    "plt.plot(range(mina, maxa+1), lr_ages)\n",
    "plt.plot(range(mina, maxa+1), rf_ages)"
   ]
  },
  {
   "cell_type": "markdown",
   "metadata": {},
   "source": [
    "#### Smoothing the bumps from test data using a sliding window"
   ]
  },
  {
   "cell_type": "code",
   "execution_count": 115,
   "metadata": {},
   "outputs": [],
   "source": [
    "lr_ages = []\n",
    "rf_ages = []\n",
    "lr_ages_s = []\n",
    "rf_ages_s = []\n",
    "for age in range(mina, maxa+1):\n",
    "    lr_res = []\n",
    "    rf_res = []\n",
    "    mn = max(age-5, mina)\n",
    "    mx = min(age+5, maxa)\n",
    "    dat = ts[(ts['age'] >= mn) & (ts['age'] <= mx)][cls]\n",
    "    dat['age'] = age\n",
    "    probs_l = lr.predict_proba(dat)[:,1]\n",
    "    probs_r = rf.predict_proba(dat)[:,1]\n",
    "       \n",
    "    lr_ages.append(np.mean(probs_l))\n",
    "    rf_ages.append(np.mean(probs_r))\n",
    "    lr_ages_s.append(np.std(probs_l))\n",
    "    rf_ages_s.append(np.std(probs_r))"
   ]
  },
  {
   "cell_type": "code",
   "execution_count": 116,
   "metadata": {},
   "outputs": [
    {
     "data": {
      "text/plain": [
       "[<matplotlib.lines.Line2D at 0x27a9b102940>]"
      ]
     },
     "execution_count": 116,
     "metadata": {},
     "output_type": "execute_result"
    },
    {
     "data": {
      "image/png": "[encoded data removed]",
      "text/plain": [
       "<Figure size 432x288 with 1 Axes>"
      ]
     },
     "metadata": {
      "needs_background": "light"
     },
     "output_type": "display_data"
    }
   ],
   "source": [
    "plt.plot(range(mina, maxa+1), lr_ages)\n",
    "plt.plot(range(mina, maxa+1), rf_ages)"
   ]
  },
  {
   "cell_type": "code",
   "execution_count": 117,
   "metadata": {},
   "outputs": [
    {
     "data": {
      "text/plain": [
       "array([0.15865015, 0.15856293, 0.15815969, 0.15763379, 0.1579697 ,\n",
       "       0.15777576, 0.15826342, 0.15883275, 0.15737037, 0.15845582,\n",
       "       0.16155411, 0.1650143 , 0.16425225, 0.16347868, 0.16485822,\n",
       "       0.16362543, 0.16385446, 0.16537376, 0.16558195, 0.16623531,\n",
       "       0.16591532, 0.16328421, 0.15856553, 0.15981827, 0.16215104,\n",
       "       0.16006024])"
      ]
     },
     "execution_count": 117,
     "metadata": {},
     "output_type": "execute_result"
    }
   ],
   "source": [
    "np.array(lr_ages) + np.array(lr_ages_s)"
   ]
  },
  {
   "cell_type": "markdown",
   "metadata": {},
   "source": [
    "#### Range of means and standard deviation"
   ]
  },
  {
   "cell_type": "code",
   "execution_count": 118,
   "metadata": {},
   "outputs": [
    {
     "data": {
      "text/plain": [
       "<matplotlib.collections.PolyCollection at 0x27a94c96048>"
      ]
     },
     "execution_count": 118,
     "metadata": {},
     "output_type": "execute_result"
    },
    {
     "data": {
      "image/png": "[encoded data removed]",
      "text/plain": [
       "<Figure size 432x288 with 1 Axes>"
      ]
     },
     "metadata": {
      "needs_background": "light"
     },
     "output_type": "display_data"
    }
   ],
   "source": [
    "plt.plot(range(mina, maxa+1), np.array(lr_ages) + np.array(lr_ages_s), color='r')\n",
    "plt.plot(range(mina, maxa+1), np.array(lr_ages) - np.array(lr_ages_s), color='r')\n",
    "plt.fill_between(range(mina, maxa+1), np.array(lr_ages) + np.array(lr_ages_s), np.array(lr_ages) - np.array(lr_ages_s), color='r')"
   ]
  },
  {
   "cell_type": "code",
   "execution_count": 119,
   "metadata": {},
   "outputs": [
    {
     "data": {
      "text/plain": [
       "<matplotlib.collections.PolyCollection at 0x27a939287f0>"
      ]
     },
     "execution_count": 119,
     "metadata": {},
     "output_type": "execute_result"
    },
    {
     "data": {
      "image/png": "[encoded data removed]",
      "text/plain": [
       "<Figure size 432x288 with 1 Axes>"
      ]
     },
     "metadata": {
      "needs_background": "light"
     },
     "output_type": "display_data"
    }
   ],
   "source": [
    "plt.ylim(-0.3,1.0)\n",
    "plt.plot(range(mina, maxa+1), np.array(rf_ages) + np.array(rf_ages_s), color='b')\n",
    "plt.plot(range(mina, maxa+1), np.array(rf_ages) - np.array(rf_ages_s), color='b')\n",
    "plt.fill_between(range(mina, maxa+1), np.array(rf_ages) + np.array(rf_ages_s), np.array(rf_ages) - np.array(rf_ages_s), color='b')\n",
    "plt.plot(range(mina, maxa+1), np.array(lr_ages) + np.array(lr_ages_s), color='r')\n",
    "plt.plot(range(mina, maxa+1), np.array(lr_ages) - np.array(lr_ages_s), color='r')\n",
    "plt.fill_between(range(mina, maxa+1), np.array(lr_ages) + np.array(lr_ages_s), np.array(lr_ages) - np.array(lr_ages_s), color='r')"
   ]
  },
  {
   "cell_type": "markdown",
   "metadata": {},
   "source": [
    "#### Looking at predicted values (average probabilities) per race"
   ]
  },
  {
   "cell_type": "code",
   "execution_count": 120,
   "metadata": {},
   "outputs": [
    {
     "data": {
      "image/png": "[encoded data removed]",
      "text/plain": [
       "<Figure size 432x288 with 1 Axes>"
      ]
     },
     "metadata": {
      "needs_background": "light"
     },
     "output_type": "display_data"
    }
   ],
   "source": [
    "tr_res['race'] = tr['race']\n",
    "ts_res['race'] = ts['race']\n",
    "gr_r_tr = tr_res.groupby('race')\n",
    "gr_r_ts = ts_res.groupby('race')\n",
    "\n",
    "p1 = gr_r_tr.lr.mean()\n",
    "p2 = gr_r_tr.rf.mean()\n",
    "\n",
    "# Logistic Regression\n",
    "plt.bar(range(len(p1.index)), p1.values)\n",
    "plt.xticks(range(len(p1.index)), p1.index)\n",
    "plt.show()"
   ]
  },
  {
   "cell_type": "code",
   "execution_count": 121,
   "metadata": {},
   "outputs": [
    {
     "data": {
      "image/png": "[encoded data removed]",
      "text/plain": [
       "<Figure size 432x288 with 1 Axes>"
      ]
     },
     "metadata": {
      "needs_background": "light"
     },
     "output_type": "display_data"
    }
   ],
   "source": [
    "# Random Forest\n",
    "plt.bar(range(len(p2.index)), p2.values)\n",
    "plt.xticks(range(len(p2.index)), p2.index)\n",
    "plt.show()"
   ]
  },
  {
   "cell_type": "markdown",
   "metadata": {},
   "source": [
    "#### Generate random data for all races"
   ]
  },
  {
   "cell_type": "code",
   "execution_count": 46,
   "metadata": {},
   "outputs": [],
   "source": [
    "lr_races = []\n",
    "rf_races = []\n",
    "lr_res = []\n",
    "rf_res = []\n",
    "for i in range(100):\n",
    "        age = 65+np.random.randint(30)\n",
    "        ELIX = [np.random.randint(2) for i in range(29)]\n",
    "        G = [np.random.randint(2) for i in range(22)]\n",
    "        drugs = [np.random.randint(30) for i in range(12)] \n",
    "        A = 1\n",
    "        AmN = 0\n",
    "        B = 0\n",
    "        H = 0\n",
    "        O = 0\n",
    "        U = 0\n",
    "        W = 0\n",
    "        \n",
    "        d = [age] + ELIX + G + drugs + [A, AmN, B, H, O, U, W]\n",
    "        dat = [d]\n",
    "        lr_res.append(lr.predict_proba(dat)[:,1][0])\n",
    "        rf_res.append(rf.predict_proba(dat)[:,1][0])\n",
    "  \n",
    "lr_races.append(sum(lr_res)/len(lr_res))\n",
    "rf_races.append(sum(rf_res)/len(rf_res))\n",
    "\n",
    "lr_res = []\n",
    "rf_res = []\n",
    "for i in range(100):\n",
    "        age = 65+np.random.randint(30)\n",
    "        ELIX = [np.random.randint(2) for i in range(29)]\n",
    "        G = [np.random.randint(2) for i in range(22)]\n",
    "        drugs = [np.random.randint(30) for i in range(12)] \n",
    "        A = 0\n",
    "        AmN = 1\n",
    "        B = 0\n",
    "        H = 0\n",
    "        O = 0\n",
    "        U = 0\n",
    "        W = 0\n",
    "        \n",
    "        d = [age] + ELIX + G + drugs + [A, AmN, B, H, O, U, W]\n",
    "        dat = [d]\n",
    "        lr_res.append(lr.predict_proba(dat)[:,1][0])\n",
    "        rf_res.append(rf.predict_proba(dat)[:,1][0])\n",
    "  \n",
    "lr_races.append(sum(lr_res)/len(lr_res))\n",
    "rf_races.append(sum(rf_res)/len(rf_res))\n",
    "\n",
    "lr_res = []\n",
    "rf_res = []\n",
    "for i in range(100):\n",
    "        age = 65+np.random.randint(30)\n",
    "        ELIX = [np.random.randint(2) for i in range(29)]\n",
    "        G = [np.random.randint(2) for i in range(22)]\n",
    "        drugs = [np.random.randint(30) for i in range(12)] \n",
    "        A = 0\n",
    "        AmN = 0\n",
    "        B = 1\n",
    "        H = 0\n",
    "        O = 0\n",
    "        U = 0\n",
    "        W = 0\n",
    "        \n",
    "        d = [age] + ELIX + G + drugs + [A, AmN, B, H, O, U, W]\n",
    "        dat = [d]\n",
    "        lr_res.append(lr.predict_proba(dat)[:,1][0])\n",
    "        rf_res.append(rf.predict_proba(dat)[:,1][0])\n",
    "  \n",
    "lr_races.append(sum(lr_res)/len(lr_res))\n",
    "rf_races.append(sum(rf_res)/len(rf_res))\n",
    "\n",
    "lr_res = []\n",
    "rf_res = []\n",
    "for i in range(100):\n",
    "        age = 65+np.random.randint(30)\n",
    "        ELIX = [np.random.randint(2) for i in range(29)]\n",
    "        G = [np.random.randint(2) for i in range(22)]\n",
    "        drugs = [np.random.randint(30) for i in range(12)] \n",
    "        A = 0\n",
    "        AmN = 0\n",
    "        B = 0\n",
    "        H = 1\n",
    "        O = 0\n",
    "        U = 0\n",
    "        W = 0\n",
    "        \n",
    "        d = [age] + ELIX + G + drugs + [A, AmN, B, H, O, U, W]\n",
    "        dat = [d]\n",
    "        lr_res.append(lr.predict_proba(dat)[:,1][0])\n",
    "        rf_res.append(rf.predict_proba(dat)[:,1][0])\n",
    "  \n",
    "lr_races.append(sum(lr_res)/len(lr_res))\n",
    "rf_races.append(sum(rf_res)/len(rf_res))\n",
    "\n",
    "lr_res = []\n",
    "rf_res = []\n",
    "for i in range(100):\n",
    "        age = 65+np.random.randint(30)\n",
    "        ELIX = [np.random.randint(2) for i in range(29)]\n",
    "        G = [np.random.randint(2) for i in range(22)]\n",
    "        drugs = [np.random.randint(30) for i in range(12)] \n",
    "        A = 0\n",
    "        AmN = 0\n",
    "        B = 0\n",
    "        H = 0\n",
    "        O = 1\n",
    "        U = 0\n",
    "        W = 0\n",
    "        \n",
    "        d = [age] + ELIX + G + drugs + [A, AmN, B, H, O, U, W]\n",
    "        dat = [d]\n",
    "        lr_res.append(lr.predict_proba(dat)[:,1][0])\n",
    "        rf_res.append(rf.predict_proba(dat)[:,1][0])\n",
    "  \n",
    "lr_races.append(sum(lr_res)/len(lr_res))\n",
    "rf_races.append(sum(rf_res)/len(rf_res))\n",
    "\n",
    "\n",
    "lr_res = []\n",
    "rf_res = []\n",
    "for i in range(100):\n",
    "        age = 65+np.random.randint(30)\n",
    "        ELIX = [np.random.randint(2) for i in range(29)]\n",
    "        G = [np.random.randint(2) for i in range(22)]\n",
    "        drugs = [np.random.randint(30) for i in range(12)] \n",
    "        A = 0\n",
    "        AmN = 0\n",
    "        B = 0\n",
    "        H = 0\n",
    "        O = 0\n",
    "        U = 1\n",
    "        W = 0\n",
    "        \n",
    "        d = [age] + ELIX + G + drugs + [A, AmN, B, H, O, U, W]\n",
    "        dat = [d]\n",
    "        lr_res.append(lr.predict_proba(dat)[:,1][0])\n",
    "        rf_res.append(rf.predict_proba(dat)[:,1][0])\n",
    "  \n",
    "lr_races.append(sum(lr_res)/len(lr_res))\n",
    "rf_races.append(sum(rf_res)/len(rf_res))\n",
    "\n",
    "\n",
    "lr_res = []\n",
    "rf_res = []\n",
    "for i in range(100):\n",
    "        age = 65+np.random.randint(30)\n",
    "        ELIX = [np.random.randint(2) for i in range(29)]\n",
    "        G = [np.random.randint(2) for i in range(22)]\n",
    "        drugs = [np.random.randint(30) for i in range(12)] \n",
    "        A = 0\n",
    "        AmN = 0\n",
    "        B = 0\n",
    "        H = 0\n",
    "        O = 0\n",
    "        U = 0\n",
    "        W = 1\n",
    "        \n",
    "        d = [age] + ELIX + G + drugs + [A, AmN, B, H, O, U, W]\n",
    "        dat = [d]\n",
    "        lr_res.append(lr.predict_proba(dat)[:,1][0])\n",
    "        rf_res.append(rf.predict_proba(dat)[:,1][0])\n",
    "  \n",
    "lr_races.append(sum(lr_res)/len(lr_res))\n",
    "rf_races.append(sum(rf_res)/len(rf_res))"
   ]
  },
  {
   "cell_type": "code",
   "execution_count": 47,
   "metadata": {},
   "outputs": [
    {
     "data": {
      "image/png": "[encoded data removed]",
      "text/plain": [
       "<Figure size 432x288 with 1 Axes>"
      ]
     },
     "metadata": {
      "needs_background": "light"
     },
     "output_type": "display_data"
    }
   ],
   "source": [
    "# Race influences Logistic model than random forest\n",
    "plt.bar(range(0,len(lr_races)*2,2), lr_races, color='b')\n",
    "plt.bar(range(1,len(lr_races)*2,2), rf_races, color='r')\n",
    "plt.xticks(range(0,len(lr_races)*2,2), p1.index)\n",
    "plt.show()"
   ]
  },
  {
   "cell_type": "markdown",
   "metadata": {},
   "source": [
    "#### Generate random matrix with 0.1 probability of changing a value"
   ]
  },
  {
   "cell_type": "code",
   "execution_count": 48,
   "metadata": {},
   "outputs": [],
   "source": [
    "trD = pd.DataFrame(tr)\n",
    "sz=len(trD.index)"
   ]
  },
  {
   "cell_type": "code",
   "execution_count": 49,
   "metadata": {},
   "outputs": [],
   "source": [
    "ELIX = (np.random.rand(sz,29) < 0.1).astype('int')"
   ]
  },
  {
   "cell_type": "code",
   "execution_count": 50,
   "metadata": {},
   "outputs": [],
   "source": [
    "trD.loc[:][['ELIX1','ELIX2','ELIX3','ELIX4','ELIX5','ELIX6','ELIX7','ELIX8','ELIX9','ELIX10','ELIX11','ELIX12',\n",
    "     'ELIX13','ELIX14','ELIX15','ELIX16','ELIX17','ELIX18','ELIX19','ELIX20','ELIX21','ELIX22','ELIX23',\n",
    "     'ELIX24','ELIX25','ELIX26','ELIX27','ELIX28','ELIX29']] -= ELIX\n",
    "\n",
    "\n",
    "trD.loc[:][['ELIX1','ELIX2','ELIX3','ELIX4','ELIX5','ELIX6','ELIX7','ELIX8','ELIX9','ELIX10','ELIX11','ELIX12',\n",
    "     'ELIX13','ELIX14','ELIX15','ELIX16','ELIX17','ELIX18','ELIX19','ELIX20','ELIX21','ELIX22','ELIX23',\n",
    "     'ELIX24','ELIX25','ELIX26','ELIX27','ELIX28','ELIX29']] = abs(trD.loc[:][['ELIX1','ELIX2','ELIX3','ELIX4','ELIX5','ELIX6','ELIX7','ELIX8','ELIX9','ELIX10','ELIX11','ELIX12',\n",
    "     'ELIX13','ELIX14','ELIX15','ELIX16','ELIX17','ELIX18','ELIX19','ELIX20','ELIX21','ELIX22','ELIX23',\n",
    "     'ELIX24','ELIX25','ELIX26','ELIX27','ELIX28','ELIX29']])"
   ]
  },
  {
   "cell_type": "code",
   "execution_count": 51,
   "metadata": {},
   "outputs": [],
   "source": [
    "G = (np.random.rand(sz,22) < 0.1).astype('int')\n",
    "\n",
    "# modify the binary values\n",
    "trD.loc[:][['G-2','G-3','G-4','G-5','G-6','G-7','G-8','G-9','G-10','G-11','G-12',\n",
    "     'G-13','G-14','G-15','G-16','G-17','G-18','G-19','G-20','G-21','G-22','G-23']] -= G\n",
    "\n",
    "# take absolute value to fix -1s\n",
    "trD.loc[:][['G-2','G-3','G-4','G-5','G-6','G-7','G-8','G-9','G-10','G-11','G-12',\n",
    "     'G-13','G-14','G-15','G-16','G-17','G-18','G-19','G-20','G-21','G-22','G-23']] = abs(trD.loc[:][['G-2','G-3','G-4','G-5','G-6','G-7','G-8','G-9','G-10','G-11','G-12',\n",
    "     'G-13','G-14','G-15','G-16','G-17','G-18','G-19','G-20','G-21','G-22','G-23']])"
   ]
  },
  {
   "cell_type": "code",
   "execution_count": 52,
   "metadata": {},
   "outputs": [
    {
     "data": {
      "text/plain": [
       "7.292286659683371"
      ]
     },
     "execution_count": 52,
     "metadata": {},
     "output_type": "execute_result"
    }
   ],
   "source": [
    "# Standard deviation of age\n",
    "ageDv = trD['age'].std()\n",
    "ageDv"
   ]
  },
  {
   "cell_type": "code",
   "execution_count": 53,
   "metadata": {},
   "outputs": [
    {
     "data": {
      "text/plain": [
       "62233    82\n",
       "5459     69\n",
       "40679    66\n",
       "7486     70\n",
       "98755    70\n",
       "Name: age, dtype: int64"
      ]
     },
     "execution_count": 53,
     "metadata": {},
     "output_type": "execute_result"
    }
   ],
   "source": [
    "trD['age'].head()"
   ]
  },
  {
   "cell_type": "code",
   "execution_count": 54,
   "metadata": {},
   "outputs": [
    {
     "data": {
      "text/plain": [
       "62233     78.348429\n",
       "5459      72.729946\n",
       "40679     84.827402\n",
       "7486      70.969157\n",
       "98755     71.845068\n",
       "57169     75.748446\n",
       "56359     56.305671\n",
       "51515     73.411779\n",
       "111487    67.900171\n",
       "46603     70.393537\n",
       "100437    97.069158\n",
       "5099      70.497421\n",
       "26898     76.152265\n",
       "111380    72.092957\n",
       "110216    65.184802\n",
       "34339     73.361288\n",
       "69005     71.114449\n",
       "50903     70.137542\n",
       "105356    59.195559\n",
       "54969     70.760151\n",
       "43204     75.318094\n",
       "16687     64.613012\n",
       "76232     73.068187\n",
       "54389     83.778898\n",
       "39167     71.423608\n",
       "32274     73.072730\n",
       "100051    83.565113\n",
       "3120      80.798241\n",
       "10489     69.376534\n",
       "78591     72.490344\n",
       "            ...    \n",
       "108449    71.700596\n",
       "10679     99.449755\n",
       "74690     75.272334\n",
       "60717     77.042995\n",
       "371       67.079824\n",
       "32863     81.014429\n",
       "31073     77.691188\n",
       "61533     68.740749\n",
       "53195     78.569374\n",
       "104603    97.290134\n",
       "100997    75.397718\n",
       "90417     77.518254\n",
       "5264      81.277331\n",
       "108476    60.752341\n",
       "45353     72.254456\n",
       "7162      80.836880\n",
       "27776     57.251096\n",
       "10213     80.977407\n",
       "96325     71.122233\n",
       "26419     69.348242\n",
       "6614      55.323349\n",
       "77290     79.532850\n",
       "56834     92.305130\n",
       "110245    64.049556\n",
       "26557     77.097532\n",
       "95230     73.770115\n",
       "26571     76.672701\n",
       "22670     65.948696\n",
       "107790    77.648915\n",
       "28245     73.294367\n",
       "Name: age, Length: 90419, dtype: float64"
      ]
     },
     "execution_count": 54,
     "metadata": {},
     "output_type": "execute_result"
    }
   ],
   "source": [
    "# Random distribution of age\n",
    "trD['age']+np.random.normal(0,ageDv,trD['age'].size)"
   ]
  },
  {
   "cell_type": "code",
   "execution_count": 55,
   "metadata": {},
   "outputs": [
    {
     "data": {
      "text/plain": [
       "drugs_m0-1      2.283555\n",
       "drugs_m1-2      2.173556\n",
       "drugs_m2-3      2.279094\n",
       "drugs_m3-4      2.201883\n",
       "drugs_m4-5      2.263498\n",
       "drugs_m5-6      2.246604\n",
       "drugs_m6-7      2.228001\n",
       "drugs_m7-8      2.254370\n",
       "drugs_m8-9      2.217442\n",
       "drugs_m9-10     2.259021\n",
       "drugs_m10-11    2.237261\n",
       "drugs_m11-12    2.212375\n",
       "dtype: float64"
      ]
     },
     "execution_count": 55,
     "metadata": {},
     "output_type": "execute_result"
    }
   ],
   "source": [
    "d = ['drugs_m0-1', 'drugs_m1-2', 'drugs_m2-3', 'drugs_m3-4', 'drugs_m4-5', 'drugs_m5-6', 'drugs_m6-7', \n",
    "              'drugs_m7-8', 'drugs_m8-9', 'drugs_m9-10', 'drugs_m10-11','drugs_m11-12']\n",
    "drugsDv = trD[d].std(axis=0)\n",
    "drugsDv"
   ]
  },
  {
   "cell_type": "code",
   "execution_count": 56,
   "metadata": {
    "scrolled": true
   },
   "outputs": [
    {
     "data": {
      "text/html": [
       "<div>\n",
       "<style scoped>\n",
       "    .dataframe tbody tr th:only-of-type {\n",
       "        vertical-align: middle;\n",
       "    }\n",
       "\n",
       "    .dataframe tbody tr th {\n",
       "        vertical-align: top;\n",
       "    }\n",
       "\n",
       "    .dataframe thead th {\n",
       "        text-align: right;\n",
       "    }\n",
       "</style>\n",
       "<table border=\"1\" class=\"dataframe\">\n",
       "  <thead>\n",
       "    <tr style=\"text-align: right;\">\n",
       "      <th></th>\n",
       "      <th>drugs_m0-1</th>\n",
       "      <th>drugs_m1-2</th>\n",
       "      <th>drugs_m2-3</th>\n",
       "      <th>drugs_m3-4</th>\n",
       "      <th>drugs_m4-5</th>\n",
       "      <th>drugs_m5-6</th>\n",
       "      <th>drugs_m6-7</th>\n",
       "      <th>drugs_m7-8</th>\n",
       "      <th>drugs_m8-9</th>\n",
       "      <th>drugs_m9-10</th>\n",
       "      <th>drugs_m10-11</th>\n",
       "      <th>drugs_m11-12</th>\n",
       "    </tr>\n",
       "  </thead>\n",
       "  <tbody>\n",
       "    <tr>\n",
       "      <th>62233</th>\n",
       "      <td>-0.238163</td>\n",
       "      <td>-0.821272</td>\n",
       "      <td>-1.374603</td>\n",
       "      <td>1.654163</td>\n",
       "      <td>0.412671</td>\n",
       "      <td>-1.184873</td>\n",
       "      <td>0.101431</td>\n",
       "      <td>3.271605</td>\n",
       "      <td>2.213384</td>\n",
       "      <td>0.196339</td>\n",
       "      <td>-5.657310</td>\n",
       "      <td>-1.278833</td>\n",
       "    </tr>\n",
       "    <tr>\n",
       "      <th>5459</th>\n",
       "      <td>-0.410951</td>\n",
       "      <td>1.018369</td>\n",
       "      <td>-2.107158</td>\n",
       "      <td>-0.996644</td>\n",
       "      <td>1.972518</td>\n",
       "      <td>1.829997</td>\n",
       "      <td>0.275529</td>\n",
       "      <td>0.858577</td>\n",
       "      <td>-0.807755</td>\n",
       "      <td>-3.597270</td>\n",
       "      <td>1.594454</td>\n",
       "      <td>-2.261748</td>\n",
       "    </tr>\n",
       "    <tr>\n",
       "      <th>40679</th>\n",
       "      <td>-1.473903</td>\n",
       "      <td>-0.243719</td>\n",
       "      <td>-1.479171</td>\n",
       "      <td>1.157067</td>\n",
       "      <td>5.521578</td>\n",
       "      <td>-1.556371</td>\n",
       "      <td>5.839495</td>\n",
       "      <td>-0.764924</td>\n",
       "      <td>1.562843</td>\n",
       "      <td>5.428817</td>\n",
       "      <td>1.789019</td>\n",
       "      <td>-3.087141</td>\n",
       "    </tr>\n",
       "    <tr>\n",
       "      <th>7486</th>\n",
       "      <td>4.388666</td>\n",
       "      <td>-0.781106</td>\n",
       "      <td>0.804592</td>\n",
       "      <td>1.897697</td>\n",
       "      <td>4.473210</td>\n",
       "      <td>2.145111</td>\n",
       "      <td>2.816228</td>\n",
       "      <td>0.643810</td>\n",
       "      <td>-0.075573</td>\n",
       "      <td>1.365521</td>\n",
       "      <td>-0.031377</td>\n",
       "      <td>-2.028174</td>\n",
       "    </tr>\n",
       "    <tr>\n",
       "      <th>98755</th>\n",
       "      <td>0.679284</td>\n",
       "      <td>2.890110</td>\n",
       "      <td>-1.537000</td>\n",
       "      <td>-0.198294</td>\n",
       "      <td>3.418349</td>\n",
       "      <td>3.093740</td>\n",
       "      <td>1.718591</td>\n",
       "      <td>0.641014</td>\n",
       "      <td>1.746318</td>\n",
       "      <td>-0.535566</td>\n",
       "      <td>-1.361178</td>\n",
       "      <td>0.769374</td>\n",
       "    </tr>\n",
       "  </tbody>\n",
       "</table>\n",
       "</div>"
      ],
      "text/plain": [
       "       drugs_m0-1  drugs_m1-2  drugs_m2-3  drugs_m3-4  drugs_m4-5  drugs_m5-6  \\\n",
       "62233   -0.238163   -0.821272   -1.374603    1.654163    0.412671   -1.184873   \n",
       "5459    -0.410951    1.018369   -2.107158   -0.996644    1.972518    1.829997   \n",
       "40679   -1.473903   -0.243719   -1.479171    1.157067    5.521578   -1.556371   \n",
       "7486     4.388666   -0.781106    0.804592    1.897697    4.473210    2.145111   \n",
       "98755    0.679284    2.890110   -1.537000   -0.198294    3.418349    3.093740   \n",
       "\n",
       "       drugs_m6-7  drugs_m7-8  drugs_m8-9  drugs_m9-10  drugs_m10-11  \\\n",
       "62233    0.101431    3.271605    2.213384     0.196339     -5.657310   \n",
       "5459     0.275529    0.858577   -0.807755    -3.597270      1.594454   \n",
       "40679    5.839495   -0.764924    1.562843     5.428817      1.789019   \n",
       "7486     2.816228    0.643810   -0.075573     1.365521     -0.031377   \n",
       "98755    1.718591    0.641014    1.746318    -0.535566     -1.361178   \n",
       "\n",
       "       drugs_m11-12  \n",
       "62233     -1.278833  \n",
       "5459      -2.261748  \n",
       "40679     -3.087141  \n",
       "7486      -2.028174  \n",
       "98755      0.769374  "
      ]
     },
     "execution_count": 56,
     "metadata": {},
     "output_type": "execute_result"
    }
   ],
   "source": [
    "trD[d]=trD[d]+np.random.normal(0,1,(trD.index.size,12))*np.array(drugsDv)\n",
    "trD[d].head()"
   ]
  },
  {
   "cell_type": "code",
   "execution_count": 57,
   "metadata": {},
   "outputs": [
    {
     "data": {
      "text/html": [
       "<div>\n",
       "<style scoped>\n",
       "    .dataframe tbody tr th:only-of-type {\n",
       "        vertical-align: middle;\n",
       "    }\n",
       "\n",
       "    .dataframe tbody tr th {\n",
       "        vertical-align: top;\n",
       "    }\n",
       "\n",
       "    .dataframe thead th {\n",
       "        text-align: right;\n",
       "    }\n",
       "</style>\n",
       "<table border=\"1\" class=\"dataframe\">\n",
       "  <thead>\n",
       "    <tr style=\"text-align: right;\">\n",
       "      <th></th>\n",
       "      <th>drugs_m0-1</th>\n",
       "      <th>drugs_m1-2</th>\n",
       "      <th>drugs_m2-3</th>\n",
       "      <th>drugs_m3-4</th>\n",
       "      <th>drugs_m4-5</th>\n",
       "      <th>drugs_m5-6</th>\n",
       "      <th>drugs_m6-7</th>\n",
       "      <th>drugs_m7-8</th>\n",
       "      <th>drugs_m8-9</th>\n",
       "      <th>drugs_m9-10</th>\n",
       "      <th>drugs_m10-11</th>\n",
       "      <th>drugs_m11-12</th>\n",
       "    </tr>\n",
       "  </thead>\n",
       "  <tbody>\n",
       "    <tr>\n",
       "      <th>62233</th>\n",
       "      <td>0.000000</td>\n",
       "      <td>0.000000</td>\n",
       "      <td>0.000000</td>\n",
       "      <td>1.654163</td>\n",
       "      <td>0.412671</td>\n",
       "      <td>0.000000</td>\n",
       "      <td>0.101431</td>\n",
       "      <td>3.271605</td>\n",
       "      <td>2.213384</td>\n",
       "      <td>0.196339</td>\n",
       "      <td>0.000000</td>\n",
       "      <td>0.000000</td>\n",
       "    </tr>\n",
       "    <tr>\n",
       "      <th>5459</th>\n",
       "      <td>0.000000</td>\n",
       "      <td>1.018369</td>\n",
       "      <td>0.000000</td>\n",
       "      <td>0.000000</td>\n",
       "      <td>1.972518</td>\n",
       "      <td>1.829997</td>\n",
       "      <td>0.275529</td>\n",
       "      <td>0.858577</td>\n",
       "      <td>0.000000</td>\n",
       "      <td>0.000000</td>\n",
       "      <td>1.594454</td>\n",
       "      <td>0.000000</td>\n",
       "    </tr>\n",
       "    <tr>\n",
       "      <th>40679</th>\n",
       "      <td>0.000000</td>\n",
       "      <td>0.000000</td>\n",
       "      <td>0.000000</td>\n",
       "      <td>1.157067</td>\n",
       "      <td>5.521578</td>\n",
       "      <td>0.000000</td>\n",
       "      <td>5.839495</td>\n",
       "      <td>0.000000</td>\n",
       "      <td>1.562843</td>\n",
       "      <td>5.428817</td>\n",
       "      <td>1.789019</td>\n",
       "      <td>0.000000</td>\n",
       "    </tr>\n",
       "    <tr>\n",
       "      <th>7486</th>\n",
       "      <td>4.388666</td>\n",
       "      <td>0.000000</td>\n",
       "      <td>0.804592</td>\n",
       "      <td>1.897697</td>\n",
       "      <td>4.473210</td>\n",
       "      <td>2.145111</td>\n",
       "      <td>2.816228</td>\n",
       "      <td>0.643810</td>\n",
       "      <td>0.000000</td>\n",
       "      <td>1.365521</td>\n",
       "      <td>0.000000</td>\n",
       "      <td>0.000000</td>\n",
       "    </tr>\n",
       "    <tr>\n",
       "      <th>98755</th>\n",
       "      <td>0.679284</td>\n",
       "      <td>2.890110</td>\n",
       "      <td>0.000000</td>\n",
       "      <td>0.000000</td>\n",
       "      <td>3.418349</td>\n",
       "      <td>3.093740</td>\n",
       "      <td>1.718591</td>\n",
       "      <td>0.641014</td>\n",
       "      <td>1.746318</td>\n",
       "      <td>0.000000</td>\n",
       "      <td>0.000000</td>\n",
       "      <td>0.769374</td>\n",
       "    </tr>\n",
       "  </tbody>\n",
       "</table>\n",
       "</div>"
      ],
      "text/plain": [
       "       drugs_m0-1  drugs_m1-2  drugs_m2-3  drugs_m3-4  drugs_m4-5  drugs_m5-6  \\\n",
       "62233    0.000000    0.000000    0.000000    1.654163    0.412671    0.000000   \n",
       "5459     0.000000    1.018369    0.000000    0.000000    1.972518    1.829997   \n",
       "40679    0.000000    0.000000    0.000000    1.157067    5.521578    0.000000   \n",
       "7486     4.388666    0.000000    0.804592    1.897697    4.473210    2.145111   \n",
       "98755    0.679284    2.890110    0.000000    0.000000    3.418349    3.093740   \n",
       "\n",
       "       drugs_m6-7  drugs_m7-8  drugs_m8-9  drugs_m9-10  drugs_m10-11  \\\n",
       "62233    0.101431    3.271605    2.213384     0.196339      0.000000   \n",
       "5459     0.275529    0.858577    0.000000     0.000000      1.594454   \n",
       "40679    5.839495    0.000000    1.562843     5.428817      1.789019   \n",
       "7486     2.816228    0.643810    0.000000     1.365521      0.000000   \n",
       "98755    1.718591    0.641014    1.746318     0.000000      0.000000   \n",
       "\n",
       "       drugs_m11-12  \n",
       "62233      0.000000  \n",
       "5459       0.000000  \n",
       "40679      0.000000  \n",
       "7486       0.000000  \n",
       "98755      0.769374  "
      ]
     },
     "execution_count": 57,
     "metadata": {},
     "output_type": "execute_result"
    }
   ],
   "source": [
    "trD[d] = np.where(trD[d]<0,0,trD[d])\n",
    "trD[d].head()"
   ]
  },
  {
   "cell_type": "code",
   "execution_count": 581,
   "metadata": {},
   "outputs": [],
   "source": [
    "def distort(fff):\n",
    "    trD = pd.DataFrame(fff)\n",
    "    sz=len(trD.index)\n",
    "    ELIX = (np.random.rand(sz,29) < 0.05).astype('int')\n",
    "    trD.loc[:][['ELIX1','ELIX2','ELIX3','ELIX4','ELIX5','ELIX6','ELIX7','ELIX8','ELIX9','ELIX10','ELIX11','ELIX12',\n",
    "     'ELIX13','ELIX14','ELIX15','ELIX16','ELIX17','ELIX18','ELIX19','ELIX20','ELIX21','ELIX22','ELIX23',\n",
    "     'ELIX24','ELIX25','ELIX26','ELIX27','ELIX28','ELIX29']] -= ELIX\n",
    "\n",
    "    trD.loc[:][['ELIX1','ELIX2','ELIX3','ELIX4','ELIX5','ELIX6','ELIX7','ELIX8','ELIX9','ELIX10','ELIX11','ELIX12',\n",
    "     'ELIX13','ELIX14','ELIX15','ELIX16','ELIX17','ELIX18','ELIX19','ELIX20','ELIX21','ELIX22','ELIX23',\n",
    "     'ELIX24','ELIX25','ELIX26','ELIX27','ELIX28','ELIX29']] = abs(trD.loc[:][['ELIX1','ELIX2','ELIX3','ELIX4','ELIX5','ELIX6','ELIX7','ELIX8','ELIX9','ELIX10','ELIX11','ELIX12',\n",
    "     'ELIX13','ELIX14','ELIX15','ELIX16','ELIX17','ELIX18','ELIX19','ELIX20','ELIX21','ELIX22','ELIX23',\n",
    "     'ELIX24','ELIX25','ELIX26','ELIX27','ELIX28','ELIX29']])\n",
    "    \n",
    "    G = (np.random.rand(sz,22) < 0.05).astype('int')\n",
    "\n",
    "    # modify the binary values\n",
    "    trD.loc[:][['G-2','G-3','G-4','G-5','G-6','G-7','G-8','G-9','G-10','G-11','G-12',\n",
    "     'G-13','G-14','G-15','G-16','G-17','G-18','G-19','G-20','G-21','G-22','G-23']] -= G\n",
    "\n",
    "    # take absolute value to fix -1s\n",
    "    trD.loc[:][['G-2','G-3','G-4','G-5','G-6','G-7','G-8','G-9','G-10','G-11','G-12',\n",
    "     'G-13','G-14','G-15','G-16','G-17','G-18','G-19','G-20','G-21','G-22','G-23']] = abs(trD.loc[:][['G-2','G-3','G-4','G-5','G-6','G-7','G-8','G-9','G-10','G-11','G-12',\n",
    "     'G-13','G-14','G-15','G-16','G-17','G-18','G-19','G-20','G-21','G-22','G-23']])\n",
    "\n",
    "    ageDv = trD['age'].std()\n",
    "    trD['age']+np.random.normal(0,ageDv,trD['age'].size)\n",
    "    \n",
    "    d = ['drugs_m0-1', 'drugs_m1-2', 'drugs_m2-3', 'drugs_m3-4', 'drugs_m4-5', 'drugs_m5-6', 'drugs_m6-7', \n",
    "              'drugs_m7-8', 'drugs_m8-9', 'drugs_m9-10', 'drugs_m10-11','drugs_m11-12']\n",
    "    drugsDv = trD[d].std(axis=0)\n",
    "    trD[d]=trD[d]+np.random.normal(0,1,(trD.index.size,12))*np.array(drugsDv)\n",
    "    trD[d] = np.where(trD[d]<0,0,trD[d])\n",
    "    return trD\n",
    "    "
   ]
  },
  {
   "cell_type": "code",
   "execution_count": 582,
   "metadata": {},
   "outputs": [],
   "source": [
    "dst = []\n",
    "for i in range(10): \n",
    "    dst.append( distort(tr))"
   ]
  },
  {
   "cell_type": "code",
   "execution_count": 583,
   "metadata": {},
   "outputs": [],
   "source": [
    "dstTr = pd.concat(dst)"
   ]
  },
  {
   "cell_type": "code",
   "execution_count": 584,
   "metadata": {},
   "outputs": [],
   "source": [
    "probs_l = lr.predict_proba(dstTr[cls])\n",
    "probs_r = rf.predict_proba(dstTr[cls])"
   ]
  },
  {
   "cell_type": "code",
   "execution_count": 585,
   "metadata": {},
   "outputs": [
    {
     "data": {
      "text/plain": [
       "[<matplotlib.lines.Line2D at 0x27a97cf1b70>]"
      ]
     },
     "execution_count": 585,
     "metadata": {},
     "output_type": "execute_result"
    },
    {
     "data": {
      "image/png": "[encoded data removed]",
      "text/plain": [
       "<Figure size 432x288 with 1 Axes>"
      ]
     },
     "metadata": {
      "needs_background": "light"
     },
     "output_type": "display_data"
    }
   ],
   "source": [
    "tr_res = pd.DataFrame()\n",
    "tr_res['age'] = dstTr['age']\n",
    "tr_res['lr'] = probs_l[:,1]\n",
    "tr_res['rf'] = probs_r[:,1]\n",
    "gr=tr_res.groupby('age')\n",
    "\n",
    "plt.plot(range(mina, maxa+1), list(gr['lr'].mean()))\n",
    "plt.plot(range(mina, maxa+1), list(gr['rf'].mean()))"
   ]
  },
  {
   "cell_type": "markdown",
   "metadata": {},
   "source": [
    "### 1. Test how logistic and random forest models behave outside the original 65-90 age range. It is reasonable to assume that for such patients the models will perform correctly?"
   ]
  },
  {
   "cell_type": "markdown",
   "metadata": {},
   "source": [
    "### Ans - It would not be reasonable to assume that for patients outside the original age range 65-90 the model will perform correctly because the model was never trained on ages beyond the original 65-90 age range. The trend falls down showing following the same pattern as the 65-90 age range."
   ]
  },
  {
   "cell_type": "code",
   "execution_count": 127,
   "metadata": {},
   "outputs": [],
   "source": [
    "lr_ages = []\n",
    "rf_ages = []\n",
    "for age in range(18,100):\n",
    "    lr_res = []\n",
    "    rf_res = []\n",
    "    for i in range(1000):\n",
    "        #age = 65\n",
    "        ELIX = [np.random.randint(2) for i in range(29)]\n",
    "        G = [np.random.randint(2) for i in range(22)]\n",
    "        drugs = [np.random.randint(30) for i in range(12)] \n",
    "        A = 0\n",
    "        AmN = 0\n",
    "        B = 0\n",
    "        H = 0\n",
    "        O = 0\n",
    "        U = 0\n",
    "        W = 0\n",
    "        r = np.random.randint(7)\n",
    "        if r == 0:\n",
    "            A = 1\n",
    "        if r == 1:\n",
    "            AmN = 1\n",
    "        if r == 2:\n",
    "            B = 1\n",
    "        if r == 3:\n",
    "            H = 1\n",
    "        if r == 4:\n",
    "            O = 1\n",
    "        if r == 5:\n",
    "            U = 1\n",
    "        if r == 6:\n",
    "            W = 1    \n",
    "        d = [age] + ELIX + G + drugs + [A, AmN, B, H, O, U, W]\n",
    "        dat = [d]\n",
    "        lr_res.append(lr.predict_proba(dat)[:,1][0])\n",
    "        rf_res.append(rf.predict_proba(dat)[:,1][0])\n",
    "    lr_ages.append(sum(lr_res)/len(lr_res))\n",
    "    rf_ages.append(sum(rf_res)/len(rf_res))"
   ]
  },
  {
   "cell_type": "code",
   "execution_count": 128,
   "metadata": {},
   "outputs": [
    {
     "data": {
      "text/plain": [
       "[<matplotlib.lines.Line2D at 0x27a922aa7b8>]"
      ]
     },
     "execution_count": 128,
     "metadata": {},
     "output_type": "execute_result"
    },
    {
     "data": {
      "image/png": "[encoded data removed]",
      "text/plain": [
       "<Figure size 432x288 with 1 Axes>"
      ]
     },
     "metadata": {
      "needs_background": "light"
     },
     "output_type": "display_data"
    }
   ],
   "source": [
    "plt.plot(range(18,100), lr_ages)\n",
    "plt.plot(range(18,100), rf_ages)"
   ]
  },
  {
   "cell_type": "markdown",
   "metadata": {},
   "source": [
    "### 2. Select randomly one patient from the data. Apply distortion of data to the patient 1000 times. Analyze probabilities output from the model for the distorted patient as compared with the original patient. Does the prediction/class change?"
   ]
  },
  {
   "cell_type": "markdown",
   "metadata": {},
   "source": [
    "#### Selecting a single random patient"
   ]
  },
  {
   "cell_type": "code",
   "execution_count": 400,
   "metadata": {},
   "outputs": [
    {
     "data": {
      "text/html": [
       "<div>\n",
       "<style scoped>\n",
       "    .dataframe tbody tr th:only-of-type {\n",
       "        vertical-align: middle;\n",
       "    }\n",
       "\n",
       "    .dataframe tbody tr th {\n",
       "        vertical-align: top;\n",
       "    }\n",
       "\n",
       "    .dataframe thead th {\n",
       "        text-align: right;\n",
       "    }\n",
       "</style>\n",
       "<table border=\"1\" class=\"dataframe\">\n",
       "  <thead>\n",
       "    <tr style=\"text-align: right;\">\n",
       "      <th></th>\n",
       "      <th>index</th>\n",
       "      <th>race</th>\n",
       "      <th>age</th>\n",
       "      <th>patient_id</th>\n",
       "      <th>ELIX1</th>\n",
       "      <th>ELIX2</th>\n",
       "      <th>ELIX3</th>\n",
       "      <th>ELIX4</th>\n",
       "      <th>ELIX5</th>\n",
       "      <th>ELIX6</th>\n",
       "      <th>...</th>\n",
       "      <th>drugs_m11-12</th>\n",
       "      <th>HighUtilizationY2</th>\n",
       "      <th>claimCount</th>\n",
       "      <th>A</th>\n",
       "      <th>Am.N</th>\n",
       "      <th>B</th>\n",
       "      <th>H</th>\n",
       "      <th>O</th>\n",
       "      <th>U</th>\n",
       "      <th>W</th>\n",
       "    </tr>\n",
       "  </thead>\n",
       "  <tbody>\n",
       "    <tr>\n",
       "      <th>59373</th>\n",
       "      <td>59373</td>\n",
       "      <td>W</td>\n",
       "      <td>66</td>\n",
       "      <td>PAT54727</td>\n",
       "      <td>0</td>\n",
       "      <td>0</td>\n",
       "      <td>0</td>\n",
       "      <td>0</td>\n",
       "      <td>0</td>\n",
       "      <td>0</td>\n",
       "      <td>...</td>\n",
       "      <td>0</td>\n",
       "      <td>0</td>\n",
       "      <td>0</td>\n",
       "      <td>0</td>\n",
       "      <td>0</td>\n",
       "      <td>0</td>\n",
       "      <td>0</td>\n",
       "      <td>0</td>\n",
       "      <td>0</td>\n",
       "      <td>1</td>\n",
       "    </tr>\n",
       "  </tbody>\n",
       "</table>\n",
       "<p>1 rows × 76 columns</p>\n",
       "</div>"
      ],
      "text/plain": [
       "       index race  age patient_id  ELIX1  ELIX2  ELIX3  ELIX4  ELIX5  ELIX6  \\\n",
       "59373  59373    W   66   PAT54727      0      0      0      0      0      0   \n",
       "\n",
       "      ...  drugs_m11-12  HighUtilizationY2  claimCount  A  Am.N  B  H  O  U  W  \n",
       "59373 ...             0                  0           0  0     0  0  0  0  0  1  \n",
       "\n",
       "[1 rows x 76 columns]"
      ]
     },
     "execution_count": 400,
     "metadata": {},
     "output_type": "execute_result"
    }
   ],
   "source": [
    "new = tr\n",
    "rand_patient = pd.DataFrame()\n",
    "rand_patient = new[new['index'] == np.random.choice(new.index)]\n",
    "rand_patient"
   ]
  },
  {
   "cell_type": "code",
   "execution_count": 403,
   "metadata": {},
   "outputs": [
    {
     "data": {
      "text/plain": [
       "index         1001\n",
       "race          1001\n",
       "age           1001\n",
       "patient_id    1001\n",
       "ELIX1         1001\n",
       "dtype: int64"
      ]
     },
     "execution_count": 403,
     "metadata": {},
     "output_type": "execute_result"
    }
   ],
   "source": [
    "rand_pat =pd.DataFrame\n",
    "rand_pat = rand_patient.append([rand_patient]*1000,ignore_index=True)\n",
    "rand_pat.count().head()"
   ]
  },
  {
   "cell_type": "markdown",
   "metadata": {},
   "source": [
    "#### Probabilities of ELIX codes"
   ]
  },
  {
   "cell_type": "code",
   "execution_count": 404,
   "metadata": {},
   "outputs": [
    {
     "data": {
      "text/html": [
       "<div>\n",
       "<style scoped>\n",
       "    .dataframe tbody tr th:only-of-type {\n",
       "        vertical-align: middle;\n",
       "    }\n",
       "\n",
       "    .dataframe tbody tr th {\n",
       "        vertical-align: top;\n",
       "    }\n",
       "\n",
       "    .dataframe thead th {\n",
       "        text-align: right;\n",
       "    }\n",
       "</style>\n",
       "<table border=\"1\" class=\"dataframe\">\n",
       "  <thead>\n",
       "    <tr style=\"text-align: right;\">\n",
       "      <th></th>\n",
       "      <th>ELIX1</th>\n",
       "      <th>ELIX_1</th>\n",
       "      <th>ELIX2</th>\n",
       "      <th>ELIX_2</th>\n",
       "      <th>ELIX3</th>\n",
       "      <th>ELIX_3</th>\n",
       "      <th>ELIX4</th>\n",
       "      <th>ELIX_4</th>\n",
       "      <th>ELIX5</th>\n",
       "      <th>ELIX_5</th>\n",
       "      <th>...</th>\n",
       "      <th>ELIX25</th>\n",
       "      <th>ELIX_25</th>\n",
       "      <th>ELIX26</th>\n",
       "      <th>ELIX_26</th>\n",
       "      <th>ELIX27</th>\n",
       "      <th>ELIX_27</th>\n",
       "      <th>ELIX28</th>\n",
       "      <th>ELIX_28</th>\n",
       "      <th>ELIX29</th>\n",
       "      <th>ELIX_29</th>\n",
       "    </tr>\n",
       "  </thead>\n",
       "  <tbody>\n",
       "    <tr>\n",
       "      <th>0</th>\n",
       "      <td>0</td>\n",
       "      <td>0.827658</td>\n",
       "      <td>0</td>\n",
       "      <td>0.997998</td>\n",
       "      <td>0</td>\n",
       "      <td>0.934682</td>\n",
       "      <td>0</td>\n",
       "      <td>0.919884</td>\n",
       "      <td>0</td>\n",
       "      <td>0.920315</td>\n",
       "      <td>...</td>\n",
       "      <td>0</td>\n",
       "      <td>0.980214</td>\n",
       "      <td>0</td>\n",
       "      <td>0.206616</td>\n",
       "      <td>0</td>\n",
       "      <td>0.781639</td>\n",
       "      <td>0</td>\n",
       "      <td>0.971179</td>\n",
       "      <td>0</td>\n",
       "      <td>0.75973</td>\n",
       "    </tr>\n",
       "    <tr>\n",
       "      <th>1</th>\n",
       "      <td>1</td>\n",
       "      <td>0.172342</td>\n",
       "      <td>1</td>\n",
       "      <td>0.002002</td>\n",
       "      <td>1</td>\n",
       "      <td>0.065318</td>\n",
       "      <td>1</td>\n",
       "      <td>0.080116</td>\n",
       "      <td>1</td>\n",
       "      <td>0.079685</td>\n",
       "      <td>...</td>\n",
       "      <td>1</td>\n",
       "      <td>0.019786</td>\n",
       "      <td>1</td>\n",
       "      <td>0.793384</td>\n",
       "      <td>1</td>\n",
       "      <td>0.218361</td>\n",
       "      <td>1</td>\n",
       "      <td>0.028821</td>\n",
       "      <td>1</td>\n",
       "      <td>0.24027</td>\n",
       "    </tr>\n",
       "  </tbody>\n",
       "</table>\n",
       "<p>2 rows × 58 columns</p>\n",
       "</div>"
      ],
      "text/plain": [
       "   ELIX1    ELIX_1  ELIX2    ELIX_2  ELIX3    ELIX_3  ELIX4    ELIX_4  ELIX5  \\\n",
       "0      0  0.827658      0  0.997998      0  0.934682      0  0.919884      0   \n",
       "1      1  0.172342      1  0.002002      1  0.065318      1  0.080116      1   \n",
       "\n",
       "     ELIX_5   ...     ELIX25   ELIX_25  ELIX26   ELIX_26  ELIX27   ELIX_27  \\\n",
       "0  0.920315   ...          0  0.980214       0  0.206616       0  0.781639   \n",
       "1  0.079685   ...          1  0.019786       1  0.793384       1  0.218361   \n",
       "\n",
       "   ELIX28   ELIX_28  ELIX29  ELIX_29  \n",
       "0       0  0.971179       0  0.75973  \n",
       "1       1  0.028821       1  0.24027  \n",
       "\n",
       "[2 rows x 58 columns]"
      ]
     },
     "execution_count": 404,
     "metadata": {},
     "output_type": "execute_result"
    }
   ],
   "source": [
    "INDEX1 = pd.DataFrame(tr.groupby('ELIX1')['index'].size().div(len(tr)).reset_index(name='ELIX_1'))\n",
    "INDEX2 = pd.DataFrame(tr.groupby('ELIX2')['index'].size().div(len(tr)).reset_index(name='ELIX_2'))\n",
    "INDEX3 = pd.DataFrame(tr.groupby('ELIX3')['index'].size().div(len(tr)).reset_index(name='ELIX_3'))\n",
    "INDEX4 = pd.DataFrame(tr.groupby('ELIX4')['index'].size().div(len(tr)).reset_index(name='ELIX_4'))\n",
    "INDEX5 = pd.DataFrame(tr.groupby('ELIX5')['index'].size().div(len(tr)).reset_index(name='ELIX_5'))\n",
    "INDEX6 = pd.DataFrame(tr.groupby('ELIX6')['index'].size().div(len(tr)).reset_index(name='ELIX_6'))\n",
    "INDEX7 = pd.DataFrame(tr.groupby('ELIX7')['index'].size().div(len(tr)).reset_index(name='ELIX_7'))\n",
    "INDEX8 = pd.DataFrame(tr.groupby('ELIX8')['index'].size().div(len(tr)).reset_index(name='ELIX_8'))\n",
    "INDEX9 = pd.DataFrame(tr.groupby('ELIX9')['index'].size().div(len(tr)).reset_index(name='ELIX_9'))\n",
    "INDEX10 = pd.DataFrame(tr.groupby('ELIX10')['index'].size().div(len(tr)).reset_index(name='ELIX_10'))\n",
    "INDEX11 = pd.DataFrame(tr.groupby('ELIX11')['index'].size().div(len(tr)).reset_index(name='ELIX_11'))\n",
    "INDEX12 = pd.DataFrame(tr.groupby('ELIX12')['index'].size().div(len(tr)).reset_index(name='ELIX_12'))\n",
    "INDEX13 = pd.DataFrame(tr.groupby('ELIX13')['index'].size().div(len(tr)).reset_index(name='ELIX_13'))\n",
    "INDEX14 = pd.DataFrame(tr.groupby('ELIX14')['index'].size().div(len(tr)).reset_index(name='ELIX_14'))\n",
    "INDEX15 = pd.DataFrame(tr.groupby('ELIX15')['index'].size().div(len(tr)).reset_index(name='ELIX_15'))\n",
    "INDEX16 = pd.DataFrame(tr.groupby('ELIX16')['index'].size().div(len(tr)).reset_index(name='ELIX_16'))\n",
    "INDEX17 = pd.DataFrame(tr.groupby('ELIX17')['index'].size().div(len(tr)).reset_index(name='ELIX_17'))\n",
    "INDEX18 = pd.DataFrame(tr.groupby('ELIX18')['index'].size().div(len(tr)).reset_index(name='ELIX_18'))\n",
    "INDEX19 = pd.DataFrame(tr.groupby('ELIX19')['index'].size().div(len(tr)).reset_index(name='ELIX_19'))\n",
    "INDEX20 = pd.DataFrame(tr.groupby('ELIX20')['index'].size().div(len(tr)).reset_index(name='ELIX_20'))\n",
    "INDEX21 = pd.DataFrame(tr.groupby('ELIX21')['index'].size().div(len(tr)).reset_index(name='ELIX_21'))\n",
    "INDEX22 = pd.DataFrame(tr.groupby('ELIX22')['index'].size().div(len(tr)).reset_index(name='ELIX_22'))\n",
    "INDEX23 = pd.DataFrame(tr.groupby('ELIX23')['index'].size().div(len(tr)).reset_index(name='ELIX_23'))\n",
    "INDEX24 = pd.DataFrame(tr.groupby('ELIX24')['index'].size().div(len(tr)).reset_index(name='ELIX_24'))\n",
    "INDEX25 = pd.DataFrame(tr.groupby('ELIX25')['index'].size().div(len(tr)).reset_index(name='ELIX_25'))\n",
    "INDEX26 = pd.DataFrame(tr.groupby('ELIX26')['index'].size().div(len(tr)).reset_index(name='ELIX_26'))\n",
    "INDEX27 = pd.DataFrame(tr.groupby('ELIX27')['index'].size().div(len(tr)).reset_index(name='ELIX_27'))\n",
    "INDEX28 = pd.DataFrame(tr.groupby('ELIX28')['index'].size().div(len(tr)).reset_index(name='ELIX_28'))\n",
    "INDEX29 = pd.DataFrame(tr.groupby('ELIX29')['index'].size().div(len(tr)).reset_index(name='ELIX_29'))\n",
    "\n",
    "INDEX = pd.concat([INDEX1,INDEX2,INDEX3,INDEX4,INDEX5,INDEX6,INDEX7,INDEX8,INDEX9,INDEX10,INDEX11,INDEX12,INDEX13,INDEX14,\n",
    "                   INDEX15,INDEX16,INDEX17,INDEX18,INDEX19,INDEX20,INDEX21,INDEX22,INDEX23,INDEX24,INDEX25,INDEX26,INDEX27,\n",
    "                   INDEX28,INDEX29],\n",
    "                  axis=1,sort=False)\n",
    "INDEX"
   ]
  },
  {
   "cell_type": "markdown",
   "metadata": {},
   "source": [
    "#### Probabilities for procedural codes"
   ]
  },
  {
   "cell_type": "code",
   "execution_count": 405,
   "metadata": {},
   "outputs": [
    {
     "data": {
      "text/html": [
       "<div>\n",
       "<style scoped>\n",
       "    .dataframe tbody tr th:only-of-type {\n",
       "        vertical-align: middle;\n",
       "    }\n",
       "\n",
       "    .dataframe tbody tr th {\n",
       "        vertical-align: top;\n",
       "    }\n",
       "\n",
       "    .dataframe thead th {\n",
       "        text-align: right;\n",
       "    }\n",
       "</style>\n",
       "<table border=\"1\" class=\"dataframe\">\n",
       "  <thead>\n",
       "    <tr style=\"text-align: right;\">\n",
       "      <th></th>\n",
       "      <th>G-2</th>\n",
       "      <th>G_2</th>\n",
       "      <th>G-3</th>\n",
       "      <th>G_3</th>\n",
       "      <th>G-4</th>\n",
       "      <th>G_4</th>\n",
       "      <th>G-5</th>\n",
       "      <th>G_5</th>\n",
       "      <th>G-6</th>\n",
       "      <th>G_6</th>\n",
       "      <th>...</th>\n",
       "      <th>G-19</th>\n",
       "      <th>G_19</th>\n",
       "      <th>G-20</th>\n",
       "      <th>G_20</th>\n",
       "      <th>G-21</th>\n",
       "      <th>G_21</th>\n",
       "      <th>G-22</th>\n",
       "      <th>G_22</th>\n",
       "      <th>G-23</th>\n",
       "      <th>G_23</th>\n",
       "    </tr>\n",
       "  </thead>\n",
       "  <tbody>\n",
       "    <tr>\n",
       "      <th>0</th>\n",
       "      <td>0</td>\n",
       "      <td>0.871841</td>\n",
       "      <td>0</td>\n",
       "      <td>0.949059</td>\n",
       "      <td>0</td>\n",
       "      <td>0.999978</td>\n",
       "      <td>0</td>\n",
       "      <td>0.996771</td>\n",
       "      <td>0</td>\n",
       "      <td>0.232473</td>\n",
       "      <td>...</td>\n",
       "      <td>0</td>\n",
       "      <td>0.999989</td>\n",
       "      <td>0</td>\n",
       "      <td>0.999624</td>\n",
       "      <td>0</td>\n",
       "      <td>0.526095</td>\n",
       "      <td>0</td>\n",
       "      <td>0.78677</td>\n",
       "      <td>0</td>\n",
       "      <td>0.999978</td>\n",
       "    </tr>\n",
       "    <tr>\n",
       "      <th>1</th>\n",
       "      <td>1</td>\n",
       "      <td>0.128159</td>\n",
       "      <td>1</td>\n",
       "      <td>0.050941</td>\n",
       "      <td>1</td>\n",
       "      <td>0.000022</td>\n",
       "      <td>1</td>\n",
       "      <td>0.003229</td>\n",
       "      <td>1</td>\n",
       "      <td>0.767527</td>\n",
       "      <td>...</td>\n",
       "      <td>1</td>\n",
       "      <td>0.000011</td>\n",
       "      <td>1</td>\n",
       "      <td>0.000376</td>\n",
       "      <td>1</td>\n",
       "      <td>0.473905</td>\n",
       "      <td>1</td>\n",
       "      <td>0.21323</td>\n",
       "      <td>1</td>\n",
       "      <td>0.000022</td>\n",
       "    </tr>\n",
       "  </tbody>\n",
       "</table>\n",
       "<p>2 rows × 44 columns</p>\n",
       "</div>"
      ],
      "text/plain": [
       "   G-2       G_2  G-3       G_3  G-4       G_4  G-5       G_5  G-6       G_6  \\\n",
       "0    0  0.871841    0  0.949059    0  0.999978    0  0.996771    0  0.232473   \n",
       "1    1  0.128159    1  0.050941    1  0.000022    1  0.003229    1  0.767527   \n",
       "\n",
       "     ...     G-19      G_19  G-20      G_20  G-21      G_21  G-22     G_22  \\\n",
       "0    ...        0  0.999989     0  0.999624     0  0.526095     0  0.78677   \n",
       "1    ...        1  0.000011     1  0.000376     1  0.473905     1  0.21323   \n",
       "\n",
       "   G-23      G_23  \n",
       "0     0  0.999978  \n",
       "1     1  0.000022  \n",
       "\n",
       "[2 rows x 44 columns]"
      ]
     },
     "execution_count": 405,
     "metadata": {},
     "output_type": "execute_result"
    }
   ],
   "source": [
    "G2 = pd.DataFrame(tr.groupby('G-2')['index'].size().div(len(tr)).reset_index(name='G_2'))\n",
    "G3 = pd.DataFrame(tr.groupby('G-3')['index'].size().div(len(tr)).reset_index(name='G_3'))\n",
    "G4 = pd.DataFrame(tr.groupby('G-4')['index'].size().div(len(tr)).reset_index(name='G_4'))\n",
    "G5 = pd.DataFrame(tr.groupby('G-5')['index'].size().div(len(tr)).reset_index(name='G_5'))\n",
    "G6 = pd.DataFrame(tr.groupby('G-6')['index'].size().div(len(tr)).reset_index(name='G_6'))\n",
    "G7 = pd.DataFrame(tr.groupby('G-7')['index'].size().div(len(tr)).reset_index(name='G_7'))\n",
    "G8 = pd.DataFrame(tr.groupby('G-8')['index'].size().div(len(tr)).reset_index(name='G_8'))\n",
    "G9 = pd.DataFrame(tr.groupby('G-9')['index'].size().div(len(tr)).reset_index(name='G_9'))\n",
    "G10 = pd.DataFrame(tr.groupby('G-10')['index'].size().div(len(tr)).reset_index(name='G_10'))\n",
    "G11 = pd.DataFrame(tr.groupby('G-11')['index'].size().div(len(tr)).reset_index(name='G_11'))\n",
    "G12 = pd.DataFrame(tr.groupby('G-12')['index'].size().div(len(tr)).reset_index(name='G_12'))\n",
    "G13 = pd.DataFrame(tr.groupby('G-13')['index'].size().div(len(tr)).reset_index(name='G_13'))\n",
    "G14 = pd.DataFrame(tr.groupby('G-14')['index'].size().div(len(tr)).reset_index(name='G_14'))\n",
    "G15 = pd.DataFrame(tr.groupby('G-15')['index'].size().div(len(tr)).reset_index(name='G_15'))\n",
    "G16 = pd.DataFrame(tr.groupby('G-16')['index'].size().div(len(tr)).reset_index(name='G_16'))\n",
    "G17 = pd.DataFrame(tr.groupby('G-17')['index'].size().div(len(tr)).reset_index(name='G_17'))\n",
    "G18 = pd.DataFrame(tr.groupby('G-18')['index'].size().div(len(tr)).reset_index(name='G_18'))\n",
    "G19 = pd.DataFrame(tr.groupby('G-19')['index'].size().div(len(tr)).reset_index(name='G_19'))\n",
    "G20 = pd.DataFrame(tr.groupby('G-20')['index'].size().div(len(tr)).reset_index(name='G_20'))\n",
    "G21 = pd.DataFrame(tr.groupby('G-21')['index'].size().div(len(tr)).reset_index(name='G_21'))\n",
    "G22 = pd.DataFrame(tr.groupby('G-22')['index'].size().div(len(tr)).reset_index(name='G_22'))\n",
    "G23 = pd.DataFrame(tr.groupby('G-23')['index'].size().div(len(tr)).reset_index(name='G_23'))\n",
    "\n",
    "G = pd.concat([G2,G3,G4,G5,G6,G7,G8,G9,G10,G11,G12,G13,G14,\n",
    "                   G15,G16,G17,G18,G19,G20,G21,G22,G23],\n",
    "                  axis=1,sort=False)\n",
    "G"
   ]
  },
  {
   "cell_type": "code",
   "execution_count": 574,
   "metadata": {},
   "outputs": [],
   "source": [
    "def distort2(fff):\n",
    "    trD = pd.DataFrame(fff)\n",
    "    sz = len(trD.index)\n",
    "    ELIX1 = (np.random.rand(sz,1) < 0.17).astype('int')\n",
    "    trD.loc[:][['ELIX1']] -= ELIX1\n",
    "    ELIX2 = (np.random.rand(sz,1) < 0.002).astype('int')\n",
    "    trD.loc[:][['ELIX2']] -= ELIX2\n",
    "    ELIX3 = (np.random.rand(sz,1) < 0.065).astype('int')\n",
    "    trD.loc[:][['ELIX3']] -= ELIX3\n",
    "    ELIX4 = (np.random.rand(sz,1) < 0.079).astype('int')\n",
    "    trD.loc[:][['ELIX4']] -= ELIX4\n",
    "    ELIX5 = (np.random.rand(sz,1) < 0.078).astype('int')\n",
    "    trD.loc[:][['ELIX5']] -= ELIX5\n",
    "    ELIX6 = (np.random.rand(sz,1) < 0.172).astype('int')\n",
    "    trD.loc[:][['ELIX6']] -= ELIX6\n",
    "    ELIX7 = (np.random.rand(sz,1) < 0.059).astype('int')\n",
    "    trD.loc[:][['ELIX7']] -= ELIX7\n",
    "    ELIX8 = (np.random.rand(sz,1) < 0.160).astype('int')\n",
    "    trD.loc[:][['ELIX8']] -= ELIX8\n",
    "    ELIX9 = (np.random.rand(sz,1) < 0.379).astype('int')\n",
    "    trD.loc[:][['ELIX9']] -= ELIX9\n",
    "    ELIX10 = (np.random.rand(sz,1) < 0.006).astype('int')\n",
    "    trD.loc[:][['ELIX10']] -= ELIX10\n",
    "    ELIX11 = (np.random.rand(sz,1) < 0.061).astype('int')\n",
    "    trD.loc[:][['ELIX11']] -= ELIX11\n",
    "    ELIX12 = (np.random.rand(sz,1) < 0.160).astype('int')\n",
    "    trD.loc[:][['ELIX12']] -= ELIX12\n",
    "    ELIX13 = (np.random.rand(sz,1) < 0.164).astype('int')\n",
    "    trD.loc[:][['ELIX13']] -= ELIX13\n",
    "    ELIX14 = (np.random.rand(sz,1) < 0.265).astype('int')\n",
    "    trD.loc[:][['ELIX14']] -= ELIX14\n",
    "    ELIX15 = (np.random.rand(sz,1) < 0.115).astype('int')\n",
    "    trD.loc[:][['ELIX15']] -= ELIX15\n",
    "    ELIX16 = (np.random.rand(sz,1) < 0.095).astype('int')\n",
    "    trD.loc[:][['ELIX16']] -= ELIX16\n",
    "    ELIX17 = (np.random.rand(sz,1) < 0.006).astype('int')\n",
    "    trD.loc[:][['ELIX17']] -= ELIX17\n",
    "    ELIX18 = (np.random.rand(sz,1) < 0.190).astype('int')\n",
    "    trD.loc[:][['ELIX18']] -= ELIX18\n",
    "    ELIX19 = (np.random.rand(sz,1) < 0.032).astype('int')\n",
    "    trD.loc[:][['ELIX19']] -= ELIX19\n",
    "    ELIX20 = (np.random.rand(sz,1) < 0.03).astype('int')\n",
    "    trD.loc[:][['ELIX20']] -= ELIX20\n",
    "    ELIX21 = (np.random.rand(sz,1) < 0.135).astype('int')\n",
    "    trD.loc[:][['ELIX21']] -= ELIX21\n",
    "    ELIX22 = (np.random.rand(sz,1) < 0.007).astype('int')\n",
    "    trD.loc[:][['ELIX22']] -= ELIX22\n",
    "    ELIX23 = (np.random.rand(sz,1) < 0.002).astype('int')\n",
    "    trD.loc[:][['ELIX23']] -= ELIX23\n",
    "    ELIX24 = (np.random.rand(sz,1) < 0.07).astype('int')\n",
    "    trD.loc[:][['ELIX24']] -= ELIX24\n",
    "    ELIX25 = (np.random.rand(sz,1) < 0.019).astype('int')\n",
    "    trD.loc[:][['ELIX25']] -= ELIX25\n",
    "    ELIX26 = (np.random.rand(sz,1) < 0.792).astype('int')\n",
    "    trD.loc[:][['ELIX26']] -= ELIX26\n",
    "    ELIX27 = (np.random.rand(sz,1) < 0.217).astype('int')\n",
    "    trD.loc[:][['ELIX27']] -= ELIX27\n",
    "    ELIX28 = (np.random.rand(sz,1) < 0.028).astype('int')\n",
    "    trD.loc[:][['ELIX28']] -= ELIX28\n",
    "    ELIX29 = (np.random.rand(sz,1) < 0.241).astype('int')\n",
    "    trD.loc[:][['ELIX29']] -= ELIX29\n",
    "\n",
    "    trD.loc[:][['ELIX1','ELIX2','ELIX3','ELIX4','ELIX5','ELIX6','ELIX7','ELIX8','ELIX9','ELIX10','ELIX11','ELIX12',\n",
    "         'ELIX13','ELIX14','ELIX15','ELIX16','ELIX17','ELIX18','ELIX19','ELIX20','ELIX21','ELIX22','ELIX23',\n",
    "         'ELIX24','ELIX25','ELIX26','ELIX27','ELIX28','ELIX29']] = abs(trD.loc[:][['ELIX1','ELIX2','ELIX3','ELIX4',\n",
    "         'ELIX5','ELIX6','ELIX7','ELIX8','ELIX9','ELIX10','ELIX11','ELIX12',\n",
    "         'ELIX13','ELIX14','ELIX15','ELIX16','ELIX17','ELIX18','ELIX19','ELIX20','ELIX21','ELIX22','ELIX23',\n",
    "         'ELIX24','ELIX25','ELIX26','ELIX27','ELIX28','ELIX29']])\n",
    "\n",
    "    G2 = (np.random.rand(sz,1) < 0.127).astype('int')\n",
    "    trD.loc[:][['G-2']] -= G2\n",
    "    G3 = (np.random.rand(sz,1) < 0.049).astype('int')\n",
    "    trD.loc[:][['G-3']] -= G3\n",
    "    G4 = (np.random.rand(sz,1) < 0.000022).astype('int')\n",
    "    trD.loc[:][['G-4']] -= G4\n",
    "    G5 = (np.random.rand(sz,1) < 0.003).astype('int')\n",
    "    trD.loc[:][['G-5']] -= G5\n",
    "    G6 = (np.random.rand(sz,1) < 0.767).astype('int')\n",
    "    trD.loc[:][['G-6']] -= G6\n",
    "    G7 = (np.random.rand(sz,1) < 0.047).astype('int')\n",
    "    trD.loc[:][['G-7']] -= G7\n",
    "    G8 = (np.random.rand(sz,1) < 0.00069).astype('int')\n",
    "    trD.loc[:][['G-8']] -= G8\n",
    "    G9 = (np.random.rand(sz,1) < 0.0019).astype('int')\n",
    "    trD.loc[:][['G-9']] -= G9\n",
    "    G10 = (np.random.rand(sz,1) < 0.000077).astype('int')\n",
    "    trD.loc[:][['G-10']] -= G10\n",
    "    G11 = (np.random.rand(sz,1) < 0.598).astype('int')\n",
    "    trD.loc[:][['G-11']] -= G11\n",
    "    G12 = (np.random.rand(sz,1) < 0.153).astype('int')\n",
    "    trD.loc[:][['G-12']] -= G12\n",
    "    G13 = (np.random.rand(sz,1) < 0.872).astype('int')\n",
    "    trD.loc[:][['G-13']] -= G13\n",
    "    G14 = (np.random.rand(sz,1) < 0.000133).astype('int')\n",
    "    trD.loc[:][['G-14']] -= G14\n",
    "    G15 = (np.random.rand(sz,1) < 0.000022).astype('int')\n",
    "    trD.loc[:][['G-15']] -= G15\n",
    "    G16 = (np.random.rand(sz,1) < 0.0013).astype('int')\n",
    "    trD.loc[:][['G-16']] -= G16\n",
    "    G17 = (np.random.rand(sz,1) < 0.3325).astype('int')\n",
    "    trD.loc[:][['G-17']] -= G17\n",
    "    G18 = (np.random.rand(sz,1) < 0.719).astype('int')\n",
    "    trD.loc[:][['G-18']] -= G18\n",
    "    G19 = (np.random.rand(sz,1) < 0.000011).astype('int')\n",
    "    trD.loc[:][['G-19']] -= G19\n",
    "    G20 = (np.random.rand(sz,1) < 0.000431).astype('int')\n",
    "    trD.loc[:][['G-20']] -= G20\n",
    "    G21 = (np.random.rand(sz,1) < 0.472).astype('int')\n",
    "    trD.loc[:][['G-21']] -= G21\n",
    "    G22 = (np.random.rand(sz,1) < 0.211).astype('int')\n",
    "    trD.loc[:][['G-22']] -= G22\n",
    "    G23 = (np.random.rand(sz,1) < 0.000022).astype('int')\n",
    "    trD.loc[:][['G-23']] -= G23\n",
    "           \n",
    "    # take absolute value to fix -1s\n",
    "    trD.loc[:][['G-2','G-3','G-4','G-5','G-6','G-7','G-8','G-9','G-10','G-11','G-12',\n",
    "                'G-13','G-14','G-15','G-16','G-17','G-18','G-19','G-20','G-21','G-22','G-23']] = abs(trD.loc[:][['G-2','G-3',\n",
    "                'G-4','G-5','G-6','G-7','G-8','G-9','G-10','G-11','G-12',\n",
    "                'G-13','G-14','G-15','G-16','G-17','G-18','G-19','G-20','G-21','G-22','G-23']])\n",
    "    \n",
    "    ageDv = tr['age'].std()\n",
    "    trD['age']=round(trD['age']+np.random.normal(0,ageDv,trD['age'].size))\n",
    "\n",
    "    d = ['drugs_m0-1', 'drugs_m1-2', 'drugs_m2-3', 'drugs_m3-4', 'drugs_m4-5', 'drugs_m5-6', 'drugs_m6-7', \n",
    "         'drugs_m7-8', 'drugs_m8-9', 'drugs_m9-10', 'drugs_m10-11','drugs_m11-12']\n",
    "    drugsDv = tr[d].std(axis=0)\n",
    "    trD[d]=trD[d]+np.random.normal(0,1,(trD.index.size,12))*np.array(drugsDv)\n",
    "    trD[d] = np.where(trD[d]<0,0,round(trD[d]))\n",
    "    return trD"
   ]
  },
  {
   "cell_type": "code",
   "execution_count": 575,
   "metadata": {},
   "outputs": [],
   "source": [
    "dst = []\n",
    "dst.append(distort2(rand_pat))"
   ]
  },
  {
   "cell_type": "code",
   "execution_count": 576,
   "metadata": {},
   "outputs": [
    {
     "data": {
      "text/html": [
       "<div>\n",
       "<style scoped>\n",
       "    .dataframe tbody tr th:only-of-type {\n",
       "        vertical-align: middle;\n",
       "    }\n",
       "\n",
       "    .dataframe tbody tr th {\n",
       "        vertical-align: top;\n",
       "    }\n",
       "\n",
       "    .dataframe thead th {\n",
       "        text-align: right;\n",
       "    }\n",
       "</style>\n",
       "<table border=\"1\" class=\"dataframe\">\n",
       "  <thead>\n",
       "    <tr style=\"text-align: right;\">\n",
       "      <th></th>\n",
       "      <th>index</th>\n",
       "      <th>race</th>\n",
       "      <th>age</th>\n",
       "      <th>patient_id</th>\n",
       "      <th>ELIX1</th>\n",
       "      <th>ELIX2</th>\n",
       "      <th>ELIX3</th>\n",
       "      <th>ELIX4</th>\n",
       "      <th>ELIX5</th>\n",
       "      <th>ELIX6</th>\n",
       "      <th>...</th>\n",
       "      <th>drugs_m11-12</th>\n",
       "      <th>HighUtilizationY2</th>\n",
       "      <th>claimCount</th>\n",
       "      <th>A</th>\n",
       "      <th>Am.N</th>\n",
       "      <th>B</th>\n",
       "      <th>H</th>\n",
       "      <th>O</th>\n",
       "      <th>U</th>\n",
       "      <th>W</th>\n",
       "    </tr>\n",
       "  </thead>\n",
       "  <tbody>\n",
       "    <tr>\n",
       "      <th>0</th>\n",
       "      <td>59373</td>\n",
       "      <td>W</td>\n",
       "      <td>17.0</td>\n",
       "      <td>PAT54727</td>\n",
       "      <td>1</td>\n",
       "      <td>0</td>\n",
       "      <td>1</td>\n",
       "      <td>1</td>\n",
       "      <td>0</td>\n",
       "      <td>0</td>\n",
       "      <td>...</td>\n",
       "      <td>13.0</td>\n",
       "      <td>0</td>\n",
       "      <td>0</td>\n",
       "      <td>0</td>\n",
       "      <td>0</td>\n",
       "      <td>0</td>\n",
       "      <td>0</td>\n",
       "      <td>0</td>\n",
       "      <td>0</td>\n",
       "      <td>1</td>\n",
       "    </tr>\n",
       "    <tr>\n",
       "      <th>1</th>\n",
       "      <td>59373</td>\n",
       "      <td>W</td>\n",
       "      <td>64.0</td>\n",
       "      <td>PAT54727</td>\n",
       "      <td>0</td>\n",
       "      <td>0</td>\n",
       "      <td>1</td>\n",
       "      <td>0</td>\n",
       "      <td>0</td>\n",
       "      <td>0</td>\n",
       "      <td>...</td>\n",
       "      <td>22.0</td>\n",
       "      <td>0</td>\n",
       "      <td>0</td>\n",
       "      <td>0</td>\n",
       "      <td>0</td>\n",
       "      <td>0</td>\n",
       "      <td>0</td>\n",
       "      <td>0</td>\n",
       "      <td>0</td>\n",
       "      <td>1</td>\n",
       "    </tr>\n",
       "    <tr>\n",
       "      <th>2</th>\n",
       "      <td>59373</td>\n",
       "      <td>W</td>\n",
       "      <td>98.0</td>\n",
       "      <td>PAT54727</td>\n",
       "      <td>1</td>\n",
       "      <td>0</td>\n",
       "      <td>1</td>\n",
       "      <td>1</td>\n",
       "      <td>1</td>\n",
       "      <td>0</td>\n",
       "      <td>...</td>\n",
       "      <td>38.0</td>\n",
       "      <td>0</td>\n",
       "      <td>0</td>\n",
       "      <td>0</td>\n",
       "      <td>0</td>\n",
       "      <td>0</td>\n",
       "      <td>0</td>\n",
       "      <td>0</td>\n",
       "      <td>0</td>\n",
       "      <td>1</td>\n",
       "    </tr>\n",
       "    <tr>\n",
       "      <th>3</th>\n",
       "      <td>59373</td>\n",
       "      <td>W</td>\n",
       "      <td>105.0</td>\n",
       "      <td>PAT54727</td>\n",
       "      <td>1</td>\n",
       "      <td>0</td>\n",
       "      <td>0</td>\n",
       "      <td>1</td>\n",
       "      <td>0</td>\n",
       "      <td>0</td>\n",
       "      <td>...</td>\n",
       "      <td>79.0</td>\n",
       "      <td>0</td>\n",
       "      <td>0</td>\n",
       "      <td>0</td>\n",
       "      <td>0</td>\n",
       "      <td>0</td>\n",
       "      <td>0</td>\n",
       "      <td>0</td>\n",
       "      <td>0</td>\n",
       "      <td>1</td>\n",
       "    </tr>\n",
       "    <tr>\n",
       "      <th>4</th>\n",
       "      <td>59373</td>\n",
       "      <td>W</td>\n",
       "      <td>96.0</td>\n",
       "      <td>PAT54727</td>\n",
       "      <td>0</td>\n",
       "      <td>1</td>\n",
       "      <td>0</td>\n",
       "      <td>0</td>\n",
       "      <td>0</td>\n",
       "      <td>1</td>\n",
       "      <td>...</td>\n",
       "      <td>32.0</td>\n",
       "      <td>0</td>\n",
       "      <td>0</td>\n",
       "      <td>0</td>\n",
       "      <td>0</td>\n",
       "      <td>0</td>\n",
       "      <td>0</td>\n",
       "      <td>0</td>\n",
       "      <td>0</td>\n",
       "      <td>1</td>\n",
       "    </tr>\n",
       "  </tbody>\n",
       "</table>\n",
       "<p>5 rows × 76 columns</p>\n",
       "</div>"
      ],
      "text/plain": [
       "   index race    age patient_id  ELIX1  ELIX2  ELIX3  ELIX4  ELIX5  ELIX6 ...  \\\n",
       "0  59373    W   17.0   PAT54727      1      0      1      1      0      0 ...   \n",
       "1  59373    W   64.0   PAT54727      0      0      1      0      0      0 ...   \n",
       "2  59373    W   98.0   PAT54727      1      0      1      1      1      0 ...   \n",
       "3  59373    W  105.0   PAT54727      1      0      0      1      0      0 ...   \n",
       "4  59373    W   96.0   PAT54727      0      1      0      0      0      1 ...   \n",
       "\n",
       "   drugs_m11-12  HighUtilizationY2  claimCount  A  Am.N  B  H  O  U  W  \n",
       "0          13.0                  0           0  0     0  0  0  0  0  1  \n",
       "1          22.0                  0           0  0     0  0  0  0  0  1  \n",
       "2          38.0                  0           0  0     0  0  0  0  0  1  \n",
       "3          79.0                  0           0  0     0  0  0  0  0  1  \n",
       "4          32.0                  0           0  0     0  0  0  0  0  1  \n",
       "\n",
       "[5 rows x 76 columns]"
      ]
     },
     "execution_count": 576,
     "metadata": {},
     "output_type": "execute_result"
    }
   ],
   "source": [
    "dstTr = pd.concat(dst)\n",
    "dstTr.head()"
   ]
  },
  {
   "cell_type": "code",
   "execution_count": 577,
   "metadata": {},
   "outputs": [],
   "source": [
    "probs_l = lr.predict_proba(dstTr[cls])\n",
    "probs_r = rf.predict_proba(dstTr[cls])"
   ]
  },
  {
   "cell_type": "code",
   "execution_count": 580,
   "metadata": {},
   "outputs": [
    {
     "data": {
      "text/plain": [
       "(65, 90)"
      ]
     },
     "execution_count": 580,
     "metadata": {},
     "output_type": "execute_result"
    },
    {
     "data": {
      "image/png": "[encoded data removed]",
      "text/plain": [
       "<Figure size 432x288 with 1 Axes>"
      ]
     },
     "metadata": {
      "needs_background": "light"
     },
     "output_type": "display_data"
    }
   ],
   "source": [
    "tr_res = pd.DataFrame()\n",
    "tr_res['age'] = dstTr['age']\n",
    "tr_res['lr'] = probs_l[:,1]\n",
    "tr_res['rf'] = probs_r[:,1]\n",
    "gr=tr_res.groupby('age')\n",
    "\n",
    "plt.plot(list(gr['lr'].mean()),color='b')\n",
    "plt.plot(list(gr['rf'].mean()),color='r')\n",
    "plt.xlim(65,90)"
   ]
  },
  {
   "cell_type": "code",
   "execution_count": null,
   "metadata": {},
   "outputs": [],
   "source": []
  }
 ],
 "metadata": {
  "kernelspec": {
   "display_name": "Python 3",
   "language": "python",
   "name": "python3"
  },
  "language_info": {
   "codemirror_mode": {
    "name": "ipython",
    "version": 3
   },
   "file_extension": ".py",
   "mimetype": "text/x-python",
   "name": "python",
   "nbconvert_exporter": "python",
   "pygments_lexer": "ipython3",
   "version": "3.7.0"
  }
 },
 "nbformat": 4,
 "nbformat_minor": 2
}
